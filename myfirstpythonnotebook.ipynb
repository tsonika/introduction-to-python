{
  "nbformat": 4,
  "nbformat_minor": 0,
  "metadata": {
    "colab": {
      "provenance": [],
      "collapsed_sections": [
        "rjfdhghLasxw",
        "WZ2ApujlkP2d",
        "CX4xX2v_devE",
        "MAqKCIQbkUab",
        "XzDDVEZHmCSc",
        "VlhRswnnn1wH",
        "pdJkpajJOdJN",
        "sxIBRbiiacy0",
        "YXx9mqlEcf7v",
        "bbTf8mAlcxl4",
        "t8bOq27ndVZv",
        "9H-FzpzkgVsu"
      ]
    },
    "kernelspec": {
      "display_name": "Python 3",
      "name": "python3"
    },
    "language_info": {
      "name": "python"
    }
  },
  "cells": [
    {
      "cell_type": "markdown",
      "metadata": {
        "id": "tm9I1KoNivK6"
      },
      "source": [
        "#Introduction to python programming \n",
        "\n",
        "**Date:** 2020-21\n",
        "\n",
        "**Authors** This material was developed by Sonika Tyagi of Monash University. \n",
        "\n",
        "**Last modified**: Navya Tyagi on 20.11.2021\n",
        "\n",
        "No prior experience is required to participate in this workshop.\n",
        "\n",
        "Anyone can learn to code.\n",
        "\n",
        "Lets jump straight into it.\n",
        "\n",
        "this is my first python notebook. I am writing the document using the markdown code\n",
        "\n",
        "\n",
        "  \n",
        "##Coding terminology\n",
        "\n",
        "- Syntax: This is grammar of programming language. (This document is in Markdown syntax.)\n",
        "- Objects : or variables are english names used to hold some values e.g. x=2, here x is a variable.\n",
        "- Interpreter: This converts code into machine readable language.\n",
        "- coding cell and text cell\n",
        "- Use of # character in the coding cell\n",
        "\n",
        "\n"
      ]
    },
    {
      "cell_type": "markdown",
      "metadata": {
        "id": "a_6I_0FsWu-1"
      },
      "source": []
    },
    {
      "cell_type": "markdown",
      "metadata": {
        "id": "nqummrFwJSfJ"
      },
      "source": [
        "##print function\n",
        "\n",
        "We are using Python 3\n",
        "\n",
        "*print* function will be used with a parenthesis in front of it\n",
        "\n",
        "The statement you want to print will be inside the parenthesis\n",
        "\n",
        "It adds end of line character to your statement.\n",
        "\n",
        "Text is written within quotes (\" \") , both single and double quotes are allowed.\n"
      ]
    },
    {
      "cell_type": "code",
      "metadata": {
        "id": "6OuQOfPBkZ2F",
        "outputId": "99cacdca-297a-4bde-e91a-1c1a48c171ac",
        "colab": {
          "base_uri": "https://localhost:8080/"
        }
      },
      "source": [
        "print(\"Hello world! I am Charlie\")"
      ],
      "execution_count": null,
      "outputs": [
        {
          "output_type": "stream",
          "name": "stdout",
          "text": [
            "Hello world! I am Charlie\n"
          ]
        }
      ]
    },
    {
      "cell_type": "code",
      "metadata": {
        "colab": {
          "base_uri": "https://localhost:8080/"
        },
        "id": "z1_IRbDUYM1P",
        "outputId": "f425e090-9165-4c75-f5ba-70882324d05d"
      },
      "source": [
        "print(\"Melbourne's weather is unpredictable!\")"
      ],
      "execution_count": null,
      "outputs": [
        {
          "output_type": "stream",
          "name": "stdout",
          "text": [
            "Melbourne's weather is unpredictable!\n"
          ]
        }
      ]
    },
    {
      "cell_type": "code",
      "source": [
        "#name=\"Charlie\"\n",
        "#print(name)\n",
        "x=18\n",
        "print(x)"
      ],
      "metadata": {
        "colab": {
          "base_uri": "https://localhost:8080/"
        },
        "id": "hiObb4yMINRu",
        "outputId": "43e90194-86ca-4b5c-c304-1e962f895b78"
      },
      "execution_count": null,
      "outputs": [
        {
          "output_type": "stream",
          "name": "stdout",
          "text": [
            "18\n"
          ]
        }
      ]
    },
    {
      "cell_type": "markdown",
      "metadata": {
        "id": "r_J5Ny4XK8Qm"
      },
      "source": [
        "# ▶ ▶ *Try it yourself*\n",
        "\n",
        "> Print the following:\n",
        "\n",
        " > Melbourne's weather is unpredictable!"
      ]
    },
    {
      "cell_type": "markdown",
      "metadata": {
        "id": "EE1rgPnC0yIe"
      },
      "source": [
        "> In a print statement, what happens if you leave out one of the parentheses or both?\n",
        "\n",
        "> If you are trying to print a string, what happens if you leave out one of the quotation marks, or both?"
      ]
    },
    {
      "cell_type": "markdown",
      "metadata": {
        "id": "d6z9KfmuLYMT"
      },
      "source": [
        "##Variables\n",
        "\n",
        "A variable is a name that refers to a value.\n",
        "These are used to assign values.\n",
        "\n",
        "X=2\n",
        "\n",
        "Here, 'X' is a variable.\n",
        "\n",
        "'=' is an assignment operator\n",
        "\n",
        "'2' is the value."
      ]
    },
    {
      "cell_type": "code",
      "metadata": {
        "id": "2p-TMnZWMvXB",
        "colab": {
          "base_uri": "https://localhost:8080/"
        },
        "outputId": "424afed7-e68f-41fb-d90e-6a27bb17e05c"
      },
      "source": [
        "x=2\n",
        "y=3\n",
        "#Values of the variables can be printed directly\n",
        "#print value of x\n",
        "#print(x)\n",
        "#print value of y\n",
        "#print(y)\n",
        "print(y+x)\n",
        "\n",
        "one=10\n",
        "two=20\n",
        "#prit value of x+y\n",
        "sum=one+two\n",
        "print(sum)"
      ],
      "execution_count": null,
      "outputs": [
        {
          "output_type": "stream",
          "name": "stdout",
          "text": [
            "5\n",
            "30\n"
          ]
        }
      ]
    },
    {
      "cell_type": "markdown",
      "metadata": {
        "id": "a4JyEl6vlmtL"
      },
      "source": [
        "###Rules for variables\n",
        "- It can't have spaces.\n",
        "- No special characters like @, &, *, ?, etc .\n",
        "- Avoid using '-'.\n",
        "- Can use underscores.\n",
        "- Can use combination of both lower and uppercase alphabets.\n",
        "- Numbers 0-9 can be included.\n",
        "- Variable name can't start with a number.\n",
        "- Variable name must start with a letter or an underscore.\n",
        "- Keywords(already reserved words) can't be used, such as TRUE, FALSE etc."
      ]
    },
    {
      "cell_type": "markdown",
      "metadata": {
        "id": "67J1LaC8GmHy"
      },
      "source": [
        "\n",
        "🔴 IMPORTANT NOTE\n",
        "----\n",
        "----\n",
        "###Python 3 has these keywords:\n",
        " * False, class, finally, is,  return\n",
        " * None, continue,  for, lambda,  try\n",
        " * True, def, from, nonlocal, while\n",
        " * and,  del, global, not, with\n",
        " * as, elif, if, or, yield\n",
        " * assert, else, import, pass\n",
        " * break, except, in, raise\n",
        "\n",
        "\n",
        "> <p style='background :yellow'>You don’t have to memorize this list. In most development environments, keywords are displayed in a different color; if you try to use one as a variable name, you’ll know.</p>"
      ]
    },
    {
      "cell_type": "markdown",
      "metadata": {
        "id": "E6tsK_oREMMY"
      },
      "source": [
        "# ▶ ▶ *Try it yourself*\n",
        "> Check which of the following are valid variables/identifiers:\n",
        "1. Myfile\n",
        "2. MYFILE\n",
        "3. for\n",
        "4. IN\n",
        "5. _date\n",
        "6. file&\n",
        "7. 27CRT\n",
        "\n"
      ]
    },
    {
      "cell_type": "code",
      "metadata": {
        "id": "n-fQYNcjNhdI"
      },
      "source": [
        "one=1\n",
        "two=2\n",
        "total=one+two\n",
        "#print(total)\n"
      ],
      "execution_count": null,
      "outputs": []
    },
    {
      "cell_type": "code",
      "metadata": {
        "id": "tn3d3Zbg7L9l",
        "colab": {
          "base_uri": "https://localhost:8080/"
        },
        "outputId": "c00728d0-e8fe-4490-ecc0-1bd8b9c900b8"
      },
      "source": [
        "roll_no=23\n",
        "roll_no\n",
        "#even if you do not have the print function the veriable will still print."
      ],
      "execution_count": null,
      "outputs": [
        {
          "output_type": "execute_result",
          "data": {
            "text/plain": [
              "23"
            ]
          },
          "metadata": {},
          "execution_count": 15
        }
      ]
    },
    {
      "cell_type": "markdown",
      "metadata": {
        "id": "5-3HVCc7TD-1"
      },
      "source": [
        "A few tips about printing:"
      ]
    },
    {
      "cell_type": "code",
      "metadata": {
        "id": "jmNoABDTmLtB",
        "colab": {
          "base_uri": "https://localhost:8080/"
        },
        "outputId": "9aa67fee-e645-445d-e22a-ffaf5cbc4476"
      },
      "source": [
        "x=1\n",
        "y=2\n",
        "z=3.0\n",
        "\n",
        "print(x,y,z)\n",
        "print(\"X=\",x,\"Y=\",y,\"Z=\",z)\n",
        "print(\"X=\",x,\"Y=\",y,\"Z=\",z,sep=\"\\n\")"
      ],
      "execution_count": null,
      "outputs": [
        {
          "output_type": "stream",
          "name": "stdout",
          "text": [
            "1 2 3.0\n",
            "X= 1 Y= 2 Z= 3.0\n",
            "X=\n",
            "1\n",
            "Y=\n",
            "2\n",
            "Z=\n",
            "3.0\n"
          ]
        }
      ]
    },
    {
      "cell_type": "code",
      "metadata": {
        "id": "_9OPDxC9LoAF",
        "colab": {
          "base_uri": "https://localhost:8080/"
        },
        "outputId": "d624df12-7467-4b70-b33e-bfa69b735dd4"
      },
      "source": [
        "x=1\n",
        "y=2\n",
        "z=3.0\n",
        "print(x,y,z,sep='\\n')"
      ],
      "execution_count": null,
      "outputs": [
        {
          "output_type": "stream",
          "name": "stdout",
          "text": [
            "1\n",
            "2\n",
            "3.0\n"
          ]
        }
      ]
    },
    {
      "cell_type": "markdown",
      "source": [],
      "metadata": {
        "id": "dW0r4BrBQoSy"
      }
    },
    {
      "cell_type": "markdown",
      "metadata": {
        "id": "yoJOlCiaN6Tb"
      },
      "source": [
        "#Operators\n",
        "\n",
        "Next, we will look at different operators we use to variable to carry out certain operations."
      ]
    },
    {
      "cell_type": "markdown",
      "metadata": {
        "id": "4UgWVEkB4VVF"
      },
      "source": [
        "***1. Assignment Operator***\n",
        "---\n",
        "---\n",
        "=:  It assigns the value on R.H.S to the variable on L.H.S.\n",
        "---\n",
        "---\n",
        "1. Assigning same value to multiple variables:  a=b=c=10\n",
        "2. Assigning values to multiple variables: x, y, z=10, 20, 30 \n",
        "\n",
        "\n",
        "\n",
        "\n",
        "\n",
        "\n"
      ]
    },
    {
      "cell_type": "markdown",
      "metadata": {
        "id": "ybsuKp527ZbM"
      },
      "source": [
        "***2. Equality operator***\n",
        "---\n",
        "---\n",
        "It compares the value or equality of two objects. "
      ]
    },
    {
      "cell_type": "code",
      "metadata": {
        "colab": {
          "base_uri": "https://localhost:8080/"
        },
        "id": "DWmyaT4-8RnX",
        "outputId": "31331aa4-110c-424f-dd65-fcf311b3808d"
      },
      "source": [
        "x=y=10\n",
        "x==y\n",
        "#x=1 and y=2 as per the previously executed code cell."
      ],
      "execution_count": null,
      "outputs": [
        {
          "output_type": "execute_result",
          "data": {
            "text/plain": [
              "True"
            ]
          },
          "metadata": {},
          "execution_count": 20
        }
      ]
    },
    {
      "cell_type": "markdown",
      "metadata": {
        "id": "CX4xX2v_devE"
      },
      "source": [
        "***3. Arithematic Operators***\n",
        "---\n",
        "---\n",
        "1. Addition(+)\n",
        "2. Subtraction(-)\n",
        "3. Multiplication(*)\n",
        "4. Division(/)\n",
        "5. Modulo(%): returns the integer remainder of the division.\n",
        "6. Exponent(**)\n",
        "7. Floor division(//): returns the integer quotient from the division. "
      ]
    },
    {
      "cell_type": "code",
      "metadata": {
        "id": "6i5Hw5xpfGOW",
        "colab": {
          "base_uri": "https://localhost:8080/"
        },
        "outputId": "d0497025-f1c2-44f7-9e49-eedce00b7d57"
      },
      "source": [
        "remainder=14 % 3\n",
        "print(remainder)"
      ],
      "execution_count": null,
      "outputs": [
        {
          "output_type": "stream",
          "name": "stdout",
          "text": [
            "2\n"
          ]
        }
      ]
    },
    {
      "cell_type": "code",
      "metadata": {
        "colab": {
          "base_uri": "https://localhost:8080/"
        },
        "id": "d9l-eAzCgQZC",
        "outputId": "626b0ff3-4eb2-477e-d3d2-550278d3618d"
      },
      "source": [
        "square=3**2\n",
        "cube=3**3\n",
        "print(square, cube, sep='\\n')"
      ],
      "execution_count": null,
      "outputs": [
        {
          "output_type": "stream",
          "name": "stdout",
          "text": [
            "9\n",
            "27\n"
          ]
        }
      ]
    },
    {
      "cell_type": "code",
      "metadata": {
        "colab": {
          "base_uri": "https://localhost:8080/"
        },
        "id": "LTPLKx10fTsL",
        "outputId": "dc42b8ba-c220-47bb-98f9-c71df224d2aa"
      },
      "source": [
        "floor=7//2 #7/2 is 3.5\n",
        "print(floor) # floor division operator removed the numbers after decimal."
      ],
      "execution_count": null,
      "outputs": [
        {
          "output_type": "stream",
          "name": "stdout",
          "text": [
            "3\n"
          ]
        }
      ]
    },
    {
      "cell_type": "markdown",
      "metadata": {
        "id": "8yNg_oWaPCqV"
      },
      "source": [
        "\n",
        "\n",
        "# ▶ ▶ *Try it yourself*\n",
        "> Print square root of 64\n",
        "---\n",
        "> Compute area of rectangle with length= 56cm and breadth= 34cm."
      ]
    },
    {
      "cell_type": "code",
      "metadata": {
        "colab": {
          "base_uri": "https://localhost:8080/"
        },
        "id": "cCpOauYfefYN",
        "outputId": "6ab74fb1-dc06-4d42-fef1-4b3f59c080ba"
      },
      "source": [
        "length=56\n",
        "breadth=34\n",
        "area_of_rectangle=length*breadth\n",
        "print(area_of_rectangle)"
      ],
      "execution_count": null,
      "outputs": [
        {
          "output_type": "stream",
          "name": "stdout",
          "text": [
            "1904\n"
          ]
        }
      ]
    },
    {
      "cell_type": "code",
      "metadata": {
        "colab": {
          "base_uri": "https://localhost:8080/"
        },
        "id": "iezMh56Seglh",
        "outputId": "e5db40d2-5e4c-4221-9201-b43cc5b0c907"
      },
      "source": [
        "sqroot=64**0.5\n",
        "print(sqroot)"
      ],
      "execution_count": null,
      "outputs": [
        {
          "output_type": "stream",
          "name": "stdout",
          "text": [
            "8.0\n"
          ]
        }
      ]
    },
    {
      "cell_type": "code",
      "metadata": {
        "id": "z0KSacj8eg_Q",
        "colab": {
          "base_uri": "https://localhost:8080/"
        },
        "outputId": "875f3a61-cb5b-46b6-cfeb-e7868fbcd7f1"
      },
      "source": [
        "a=4\n",
        "b=a**2 #a to the power 2 or a exponent 2\n",
        "print(b)\n",
        "\n",
        "#compute square root of b\n",
        "square_root_b=b**0.5\n",
        "print(square_root_b)"
      ],
      "execution_count": null,
      "outputs": [
        {
          "output_type": "stream",
          "name": "stdout",
          "text": [
            "16\n",
            "4.0\n"
          ]
        }
      ]
    },
    {
      "cell_type": "markdown",
      "metadata": {
        "id": "FEJxpVdAolfm"
      },
      "source": [
        "##Data/object Types\n",
        "Different objects in python can be of the following types:\n",
        "1. Text type: str (string)\n",
        "2. Numerical type: integer, float, and complex.\n",
        "3. Sequence type: List, tuple and Range.\n",
        "4. Mapping type: Dict\n",
        "5. Boolean type: Bool (this variable can have only two values e.g. yes, no or true, false etc)\n",
        "\n"
      ]
    },
    {
      "cell_type": "markdown",
      "metadata": {
        "id": "gmrnWcV_XBjj"
      },
      "source": [
        "###1. String type\n",
        "\n",
        "characters, words, sentences, and long text"
      ]
    },
    {
      "cell_type": "code",
      "metadata": {
        "colab": {
          "base_uri": "https://localhost:8080/"
        },
        "id": "EwozBaMxX6SP",
        "outputId": "a1b89899-52ec-4806-bc09-20a2d1e21a1d"
      },
      "source": [
        "#printing two string type variables\n",
        "hello1=\"hello\" #\n",
        "world1=\"world\" #\n",
        "#helloworld=hello1+world1\n",
        "join1=hello1+world1 # joining two string variabes\n",
        "join2=hello1+\" \"+world1 # joining with new \"string\" in between the two variabes. Here \"space\" is the third string we are adding\n",
        "print(join1) #printing the joined strings with nothing in between the two varaibles\n",
        "print (join2)"
      ],
      "execution_count": null,
      "outputs": [
        {
          "output_type": "stream",
          "name": "stdout",
          "text": [
            "helloworld\n",
            "hello world\n"
          ]
        }
      ]
    },
    {
      "cell_type": "code",
      "metadata": {
        "id": "NCj77v-LhvcB",
        "colab": {
          "base_uri": "https://localhost:8080/"
        },
        "outputId": "3e87f501-6d0a-4976-e5af-f4328462e497"
      },
      "source": [
        "lol=\"ha\"*10 # multiplies the string 10 times\n",
        "print(lol)"
      ],
      "execution_count": null,
      "outputs": [
        {
          "output_type": "stream",
          "name": "stdout",
          "text": [
            "hahahahahahahahahaha\n"
          ]
        }
      ]
    },
    {
      "cell_type": "code",
      "metadata": {
        "colab": {
          "base_uri": "https://localhost:8080/"
        },
        "id": "7O7HbxtvZJvi",
        "outputId": "425697e0-36b3-4d38-8f55-5671397a306d"
      },
      "source": [
        "\n",
        "one=1 #This will not work.\n",
        "two=2 #concatenate operator(+) works with only same data types.\n",
        "hi=\"hi\"\n",
        "print(hi+\" \"+hi)"
      ],
      "execution_count": null,
      "outputs": [
        {
          "output_type": "stream",
          "name": "stdout",
          "text": [
            "hi hi\n"
          ]
        }
      ]
    },
    {
      "cell_type": "code",
      "metadata": {
        "id": "ChOaqOraGPok"
      },
      "source": [
        "#string= \" \" # intiating a new string"
      ],
      "execution_count": null,
      "outputs": []
    },
    {
      "cell_type": "markdown",
      "metadata": {
        "id": "U93WFHf_XeD1"
      },
      "source": [
        "###2. Numerical type\n",
        "\n",
        "These are:\n",
        "\n",
        "- Integers or whole numbers e.g. 1, 2, 3, 10, 54\n",
        "\n",
        "- float or fractional numbers such as, 1.2, 3.0, 12.5\n",
        "\n",
        "- complex numbers (these we will not cover today)."
      ]
    },
    {
      "cell_type": "code",
      "metadata": {
        "id": "GhTyqd_WY84m",
        "colab": {
          "base_uri": "https://localhost:8080/"
        },
        "outputId": "6632fc9a-a5c1-4917-d4e0-e5c88305c8fe"
      },
      "source": [
        "x=1 #integers \n",
        "y=6 #integers\n",
        "x,y=1,6\n",
        "#assigning multiple values to multiple variables\n",
        "print(x,y)\n",
        "\n",
        "a=5.0 #float\n",
        "b=7.5 #float\n",
        "#print them\n",
        "print (a+b+x+y)"
      ],
      "execution_count": null,
      "outputs": [
        {
          "output_type": "stream",
          "name": "stdout",
          "text": [
            "1 6\n",
            "19.5\n"
          ]
        }
      ]
    },
    {
      "cell_type": "code",
      "metadata": {
        "colab": {
          "base_uri": "https://localhost:8080/"
        },
        "id": "0Cra85mPk03y",
        "outputId": "6102b411-c1a9-4321-efe9-c85997731723"
      },
      "source": [
        "#Lets compute area of a square given the measurement of its side\n",
        "side=78\n",
        "area=side*side\n",
        "area"
      ],
      "execution_count": null,
      "outputs": [
        {
          "output_type": "execute_result",
          "data": {
            "text/plain": [
              "6084"
            ]
          },
          "metadata": {},
          "execution_count": 36
        }
      ]
    },
    {
      "cell_type": "code",
      "metadata": {
        "id": "ts7CHIJKpib5",
        "colab": {
          "base_uri": "https://localhost:8080/"
        },
        "outputId": "fce85832-848c-4fda-a489-821ca18479c0"
      },
      "source": [
        "#Python has a function to check the type\n",
        "type(lol)"
      ],
      "execution_count": null,
      "outputs": [
        {
          "output_type": "execute_result",
          "data": {
            "text/plain": [
              "str"
            ]
          },
          "metadata": {},
          "execution_count": 38
        }
      ]
    },
    {
      "cell_type": "markdown",
      "source": [],
      "metadata": {
        "id": "tCFVf-62XRHU"
      }
    },
    {
      "cell_type": "markdown",
      "metadata": {
        "id": "rjfdhghLasxw"
      },
      "source": [
        "\n",
        "🔴 IMPORTANT NOTE\n",
        "----\n",
        "----\n",
        "\n",
        "***Basic Argument specifiers for printing string and numbers***\n",
        "1. %s- string\n",
        "2. %d- integer\n",
        "3. %f- float\n",
        "4. %.(number of digits)f- floating point numbers with a fixed amount of digits to the right of the dot.\n",
        "5. %x/%X - Integers in hex representation (lowercase/uppercase)"
      ]
    },
    {
      "cell_type": "code",
      "metadata": {
        "colab": {
          "base_uri": "https://localhost:8080/"
        },
        "id": "2si_VTeEbMK0",
        "outputId": "f8833bac-d50b-47d2-aaf2-d2fda4b074aa"
      },
      "source": [
        "my_string=\"hello\" #string type\n",
        "my_float=12.52589 #float type\n",
        "my_int=210 #integer type\n",
        "#if,if and if are used instead of elif or else because every condition is independent of each other.\n",
        "#if my_string==\"hello\":\n",
        "print(\"String: %s\" % my_string)\n",
        "#if my_float==12.52589:\n",
        "print(\"Float: %.2f\" % my_float)\n",
        "#if my_int==210:\n",
        "print(\"Integer: %d\" % my_int)"
      ],
      "execution_count": null,
      "outputs": [
        {
          "output_type": "stream",
          "name": "stdout",
          "text": [
            "String: hello\n",
            "Float: 12.53\n",
            "Integer: 210\n"
          ]
        }
      ]
    },
    {
      "cell_type": "markdown",
      "metadata": {
        "id": "WZ2ApujlkP2d"
      },
      "source": [
        "###3. List type\n",
        "> Sequence of values\n",
        "\n",
        "* Can contain different data types.\n",
        "* Are created using square brackets.\n",
        "* List items are ordered, changeable and allow duplicate values.\n",
        "* List items are indexed.\n",
        "* Empty lists [ ] doesn't contain any elements.\n",
        "* list() constructor can also be used to construct a new list.\n",
        "* append() is used to add items to the list/empty list.\n",
        "* A list within other list is called nested list.\n",
        "\n",
        "\n",
        "\n",
        "\n",
        "\n",
        "\n",
        "\n",
        "\n",
        "\n",
        "\n"
      ]
    },
    {
      "cell_type": "code",
      "metadata": {
        "id": "ESpOADM8Fdk5",
        "colab": {
          "base_uri": "https://localhost:8080/"
        },
        "outputId": "0c132b13-5ffd-4fae-980d-79b200b2f794"
      },
      "source": [
        "numbers=[] # initiating a new list\n",
        "print (\"content of list =\", numbers)\n",
        "numbers.append(1)\n",
        "print (\"content of list =\", numbers)\n",
        "numbers.append(3)\n",
        "print (\"content of list =\", numbers)\n",
        "numbers.append(7)\n",
        "print(numbers)\n",
        "#print(numbers[0]) \n",
        "#print(numbers[-1]) "
      ],
      "execution_count": null,
      "outputs": [
        {
          "output_type": "stream",
          "name": "stdout",
          "text": [
            "content of list = []\n",
            "content of list = [1]\n",
            "content of list = [1, 3]\n",
            "[1, 3, 7]\n"
          ]
        }
      ]
    },
    {
      "cell_type": "code",
      "source": [
        "Myfriends=[]\n",
        "print (\"these are my friends=\", Myfriends)\n",
        "Myfriends.append(\"Anna\")\n",
        "print (\"these are my friends=\", Myfriends)\n",
        "Myfriends.append(\"Zoe\")\n",
        "print (\"these are my friends=\", Myfriends)\n",
        "Myfriends.append(\"London\")\n",
        "print (\"these are my friends=\", Myfriends)"
      ],
      "metadata": {
        "colab": {
          "base_uri": "https://localhost:8080/"
        },
        "id": "i9xwVf6MdixT",
        "outputId": "11ab309e-d630-48b6-91c0-98cfb2ba3694"
      },
      "execution_count": null,
      "outputs": [
        {
          "output_type": "stream",
          "name": "stdout",
          "text": [
            "these are my friends= []\n",
            "these are my friends= ['Anna']\n",
            "these are my friends= ['Anna', 'Zoe']\n",
            "these are my friends= ['Anna', 'Zoe', 'London']\n"
          ]
        }
      ]
    },
    {
      "cell_type": "code",
      "metadata": {
        "colab": {
          "base_uri": "https://localhost:8080/"
        },
        "id": "StrXXW6HntZ4",
        "outputId": "0b353da5-3893-462e-e4b5-7a0a90b0494c"
      },
      "source": [
        "l1=['abc',23,57,'nop']\n",
        "#list formed using square brackets\n",
        "l2=list((23,'color','pink'))\n",
        "#list formed using list() constructor\n",
        "l3=[]\n",
        "#Initiating a list/ empty list\n",
        "print(l1,l2,l3, sep='\\n')\n",
        "#try using without the sep parameter in the print statemnt"
      ],
      "execution_count": null,
      "outputs": [
        {
          "output_type": "stream",
          "name": "stdout",
          "text": [
            "['abc', 23, 57, 'nop']\n",
            "[23, 'color', 'pink']\n",
            "[]\n"
          ]
        }
      ]
    },
    {
      "cell_type": "code",
      "metadata": {
        "id": "AR0cUKGZMpKl",
        "colab": {
          "base_uri": "https://localhost:8080/"
        },
        "outputId": "68edf3d9-788a-4cd0-bf8b-14ba09471961"
      },
      "source": [
        "\n",
        "strings=[] # initiating a new list\n",
        "\n",
        "#integer=0 # initiating a new integer\n",
        "names=['Raymond','Ivan','Rich']\n",
        "\n",
        "\n",
        "strings.append('hello')\n",
        "strings.append('world')\n",
        "second_name=names[1] #created a new variable whose value is the item at second position (also known as index)\n",
        "print(strings)\n",
        "print(\"The second name on names list is %s\" % second_name)"
      ],
      "execution_count": null,
      "outputs": [
        {
          "output_type": "stream",
          "name": "stdout",
          "text": [
            "['hello', 'world']\n",
            "The second name on names list is Ivan\n"
          ]
        }
      ]
    },
    {
      "cell_type": "code",
      "metadata": {
        "id": "LGFRD9q6XVO8",
        "colab": {
          "base_uri": "https://localhost:8080/"
        },
        "outputId": "f824d390-4f43-4f82-a3ce-104572ca62bb"
      },
      "source": [
        "l1=[1,2,3]*3 # multiplies the list 3 times\n",
        "print(l1)"
      ],
      "execution_count": null,
      "outputs": [
        {
          "output_type": "stream",
          "name": "stdout",
          "text": [
            "[1, 2, 3, 1, 2, 3, 1, 2, 3]\n"
          ]
        }
      ]
    },
    {
      "cell_type": "code",
      "metadata": {
        "id": "jVL1O6TBinle",
        "colab": {
          "base_uri": "https://localhost:8080/"
        },
        "outputId": "56ac22a6-04f2-46e8-a021-e3667d3b829e"
      },
      "source": [
        "# Lists can be joined using addition operator.\n",
        "even=[2,4,6]\n",
        "odd=[1,3,5]\n",
        "print(even+odd)\n"
      ],
      "execution_count": null,
      "outputs": [
        {
          "output_type": "stream",
          "name": "stdout",
          "text": [
            "[2, 4, 6, 1, 3, 5]\n"
          ]
        }
      ]
    },
    {
      "cell_type": "markdown",
      "metadata": {
        "id": "wytHWwGXUxdZ"
      },
      "source": [
        "# ▶ ▶ *Try it yourself*\n",
        "> Create an empty list and append your name in it.\n",
        "\n",
        "\n",
        "Share your answers.\n",
        "\n",
        "\n"
      ]
    },
    {
      "cell_type": "markdown",
      "metadata": {
        "id": "Gh862nQIx7zY"
      },
      "source": [
        "Object name points to the actual memory location where the value of the object is stored.In other words, object is a reference for computer memory location. In the above example \"% second_name\" is a way to dereference an object."
      ]
    },
    {
      "cell_type": "code",
      "metadata": {
        "colab": {
          "base_uri": "https://localhost:8080/"
        },
        "id": "GrUSBfOTO3Kz",
        "outputId": "849ec96b-890f-4d39-dedc-087d48f4793f"
      },
      "source": [
        "menu=['toast', 'egg', 'coffee']\n",
        "print(menu)\n",
        "menu.append(\"vegemite\")\n",
        "print(menu)\n",
        "menu.append('juice')\n",
        "print(menu)"
      ],
      "execution_count": null,
      "outputs": [
        {
          "output_type": "stream",
          "name": "stdout",
          "text": [
            "['toast', 'egg', 'coffee']\n",
            "['toast', 'egg', 'coffee', 'vegemite']\n",
            "['toast', 'egg', 'coffee', 'vegemite', 'juice']\n"
          ]
        }
      ]
    },
    {
      "cell_type": "code",
      "metadata": {
        "id": "EXRaSs9Mqf1p",
        "colab": {
          "base_uri": "https://localhost:8080/"
        },
        "outputId": "b29a946c-7cbf-4d79-c3bc-995c463ab7a5"
      },
      "source": [
        "myname=[]\n",
        "\n",
        "# I am Navya Tyagi\n",
        "myname.append('I')\n",
        "myname.append('am')\n",
        "myname.append('Navya')\n",
        "myname.append('Tyagi')\n",
        "myname.append('100')\n",
        "print(myname)\n",
        "\n",
        "\n",
        "#for x in mylist:\n",
        " # print(x)\n"
      ],
      "execution_count": null,
      "outputs": [
        {
          "output_type": "stream",
          "name": "stdout",
          "text": [
            "['I', 'am', 'Navya', 'Tyagi', '100']\n"
          ]
        }
      ]
    },
    {
      "cell_type": "markdown",
      "metadata": {
        "id": "sxIBRbiiacy0"
      },
      "source": [
        "###Python Conditions\n",
        "* Equals: a == b\n",
        "* Not Equals: a != b\n",
        "* Less than: a < b\n",
        "* Less than or equal to: a <= b\n",
        "* Greater than: a > b\n",
        "* Greater than or equal to: a >= b\n",
        "* Boolean operators: and, or\n",
        "###in() operator\n",
        "This checks whether the specified object exists within the string,list,etc."
      ]
    },
    {
      "cell_type": "code",
      "metadata": {
        "colab": {
          "base_uri": "https://localhost:8080/"
        },
        "id": "ty-_YVSia0cp",
        "outputId": "283f2098-bc6e-411c-9177-444b40c5f52d"
      },
      "source": [
        "x = 123\n",
        "Y = 25\n",
        "print(x == y) # prints out True\n",
        "print(x == 3) # prints out False\n",
        "print(x < 3) # prints out True"
      ],
      "execution_count": null,
      "outputs": [
        {
          "output_type": "stream",
          "name": "stdout",
          "text": [
            "False\n",
            "False\n",
            "False\n"
          ]
        }
      ]
    },
    {
      "cell_type": "code",
      "metadata": {
        "id": "dAyj8gGabZAH",
        "colab": {
          "base_uri": "https://localhost:8080/"
        },
        "outputId": "322d0d89-9d8e-44b5-8184-5064c546cddc"
      },
      "source": [
        "name = \"Bob\"\n",
        "age = 23\n",
        "if name == \"Bob\" and age == 23:\n",
        "    print(\"Your name is Bob Larry, and you are also 57 years old.\")\n",
        "if name == \"Bob\" or name == \"Larry\":\n",
        "    print(\"Your name is definitly Bob Larry.\")"
      ],
      "execution_count": null,
      "outputs": [
        {
          "output_type": "stream",
          "name": "stdout",
          "text": [
            "Your name is Bob Larry, and you are also 57 years old.\n",
            "Your name is definitly Bob Larry.\n"
          ]
        }
      ]
    },
    {
      "cell_type": "code",
      "source": [],
      "metadata": {
        "id": "bKLO3WkzcDUb"
      },
      "execution_count": null,
      "outputs": []
    },
    {
      "cell_type": "markdown",
      "metadata": {
        "id": "E9cAxACYm1zp"
      },
      "source": [
        "###While loops\n",
        "While loops repeats as long as a certain boolean condition is met."
      ]
    },
    {
      "cell_type": "code",
      "metadata": {
        "id": "ec-dkJbdnAT6",
        "colab": {
          "base_uri": "https://localhost:8080/"
        },
        "outputId": "2f8406cf-f2ab-4d31-99bd-8a907e4c597d"
      },
      "source": [
        "count = 0 #initialising count\n",
        "\n",
        "while count < 12:\n",
        "    print(count)\n",
        "    count += 1   #count=count+1:increment in the value of count."
      ],
      "execution_count": null,
      "outputs": [
        {
          "output_type": "stream",
          "name": "stdout",
          "text": [
            "0\n",
            "1\n",
            "2\n",
            "3\n",
            "4\n",
            "5\n",
            "6\n",
            "7\n",
            "8\n",
            "9\n",
            "10\n",
            "11\n"
          ]
        }
      ]
    },
    {
      "cell_type": "code",
      "metadata": {
        "colab": {
          "base_uri": "https://localhost:8080/",
          "height": 131
        },
        "id": "MPense0WoXde",
        "outputId": "905130a1-ccdf-4ff9-ad3e-e71e3de40b98"
      },
      "source": [
        "x = 1\n",
        "while x < 9:\n",
        "if x==5:\n",
        "        continue\n",
        "    print(x)\n",
        "    x += 1"
      ],
      "execution_count": null,
      "outputs": [
        {
          "output_type": "error",
          "ename": "IndentationError",
          "evalue": "ignored",
          "traceback": [
            "\u001b[0;36m  File \u001b[0;32m\"<ipython-input-27-6ad3cae436b0>\"\u001b[0;36m, line \u001b[0;32m3\u001b[0m\n\u001b[0;31m    if x==5:\u001b[0m\n\u001b[0m     ^\u001b[0m\n\u001b[0;31mIndentationError\u001b[0m\u001b[0;31m:\u001b[0m expected an indented block\n"
          ]
        }
      ]
    },
    {
      "cell_type": "code",
      "metadata": {
        "id": "IoQDWTojnlTt",
        "colab": {
          "base_uri": "https://localhost:8080/"
        },
        "outputId": "5a6b7e88-8b9c-4fa7-d986-cd16fe6dfed7"
      },
      "source": [
        "i = 1\n",
        "while i < 10:\n",
        "    i += 1\n",
        "    if i == 3:\n",
        "        continue\n",
        "    print(i)"
      ],
      "execution_count": null,
      "outputs": [
        {
          "output_type": "stream",
          "name": "stdout",
          "text": [
            "2\n",
            "4\n",
            "5\n",
            "6\n",
            "7\n",
            "8\n",
            "9\n",
            "10\n"
          ]
        }
      ]
    },
    {
      "cell_type": "code",
      "metadata": {
        "id": "eDVXpBNbnc_t",
        "colab": {
          "base_uri": "https://localhost:8080/"
        },
        "outputId": "2163d64e-75ed-4ae5-ed67-c18a22d074a4"
      },
      "source": [
        "i = 1\n",
        "while i < 10:\n",
        "    print(i)\n",
        "    if i == 3:\n",
        "        break\n",
        "    i += 1"
      ],
      "execution_count": null,
      "outputs": [
        {
          "output_type": "stream",
          "name": "stdout",
          "text": [
            "1\n",
            "2\n",
            "3\n"
          ]
        }
      ]
    },
    {
      "cell_type": "code",
      "metadata": {
        "colab": {
          "base_uri": "https://localhost:8080/"
        },
        "id": "JSyHIKkFoJBp",
        "outputId": "f5494f7a-1edf-4d7b-f5e3-53ba6a7db95f"
      },
      "source": [
        "i = 1\n",
        "while i < 5:\n",
        "    print(i)\n",
        "    i += 1\n",
        "else:\n",
        "    print(\"i is no longer less than 5\")"
      ],
      "execution_count": null,
      "outputs": [
        {
          "output_type": "stream",
          "name": "stdout",
          "text": [
            "1\n",
            "2\n",
            "3\n",
            "4\n",
            "i is no longer less than 5\n"
          ]
        }
      ]
    },
    {
      "cell_type": "markdown",
      "metadata": {
        "id": "9H-FzpzkgVsu"
      },
      "source": [
        "###For loops\n",
        "- Can execute a set of statements.\n",
        "-range(): Creates a sequence of numbers.\n",
        "-break: Can stop the loop before it has looped through all the items.\n",
        "-Continue: Can stop the current iteration of the loop, and continue with the next.\n",
        "-if,else: Specifies the block of code to be executed.\n",
        "-Nested loop: Loop inside a loop. The \"inner loop\" will be executed one time for each execution of the \"outer loop\".\n",
        "-Pass: Null statement. For loops can't be empty,but if you for some reason have a for loop with no content, put in the pass statement to avoid getting an error.\n",
        "\n"
      ]
    },
    {
      "cell_type": "code",
      "metadata": {
        "colab": {
          "base_uri": "https://localhost:8080/"
        },
        "id": "ZO9q4nFuiyeN",
        "outputId": "cc0e8527-f09b-434a-edbe-ece07acdfb94"
      },
      "source": [
        "primes = [1, 2, 3, 5, 7,13]\n",
        "\n",
        "\n",
        "for p in primes:\n",
        "    #print(p)\n",
        "    p1=p*2\n",
        "    print(p1)"
      ],
      "execution_count": null,
      "outputs": [
        {
          "output_type": "stream",
          "name": "stdout",
          "text": [
            "2\n",
            "4\n",
            "6\n",
            "10\n",
            "14\n",
            "26\n"
          ]
        }
      ]
    },
    {
      "cell_type": "code",
      "metadata": {
        "colab": {
          "base_uri": "https://localhost:8080/"
        },
        "id": "kfwgmZ0VjJsk",
        "outputId": "421d7549-5af6-43e1-8b99-6100f568fb56"
      },
      "source": [
        "# Looping through a string\n",
        "for x in \"Python\": \n",
        "   print(x)u"
      ],
      "execution_count": null,
      "outputs": [
        {
          "output_type": "stream",
          "name": "stdout",
          "text": [
            "P\n",
            "y\n",
            "t\n",
            "h\n",
            "o\n",
            "n\n"
          ]
        }
      ]
    },
    {
      "cell_type": "code",
      "metadata": {
        "colab": {
          "base_uri": "https://localhost:8080/"
        },
        "id": "6whv2-9ei2tP",
        "outputId": "16555fc7-ebf8-45c2-afec-f66e064a4c27"
      },
      "source": [
        "print(\"Prints out the numbers 0,1,2,3,4\")\n",
        "for x in range(5):\n",
        "    print(x)\n",
        "print(\"Prints out 3,4,5\")\n",
        "for x in range(3, 6):\n",
        "    print(x)\n",
        "print(\"Prints out 3,5,7\")\n",
        "for x in range(3, 8, 2):\n",
        "    print(x)"
      ],
      "execution_count": null,
      "outputs": [
        {
          "name": "stdout",
          "output_type": "stream",
          "text": [
            "Prints out the numbers 0,1,2,3,4\n",
            "0\n",
            "1\n",
            "2\n",
            "3\n",
            "4\n",
            "Prints out 3,4,5\n",
            "3\n",
            "4\n",
            "5\n",
            "Prints out 3,5,7\n",
            "3\n",
            "5\n",
            "7\n"
          ]
        }
      ]
    },
    {
      "cell_type": "markdown",
      "metadata": {
        "id": "MAqKCIQbkUab"
      },
      "source": [
        "###Count()\n",
        "This method returns the number of times the specified element appears in the list.\n",
        "\n"
      ]
    },
    {
      "cell_type": "code",
      "metadata": {
        "colab": {
          "base_uri": "https://localhost:8080/"
        },
        "id": "RS3My58plHkX",
        "outputId": "27dbe1ce-f506-4f15-d059-678059107343"
      },
      "source": [
        "l2=[2,4,5,2,8,6,2]\n",
        "count=l2.count(2)\n",
        "print(\"Count of 2 :\",count) #count will count how many type a particular element occurs in a list."
      ],
      "execution_count": null,
      "outputs": [
        {
          "name": "stdout",
          "output_type": "stream",
          "text": [
            "Count of 2 : 3\n"
          ]
        }
      ]
    },
    {
      "cell_type": "markdown",
      "metadata": {
        "id": "XzDDVEZHmCSc"
      },
      "source": [
        "###Len()\n",
        "This function can be used to calculate the length of given list, tuple, dictionary, string, etc."
      ]
    },
    {
      "cell_type": "code",
      "metadata": {
        "colab": {
          "base_uri": "https://localhost:8080/"
        },
        "id": "OLYTACUNmrBR",
        "outputId": "efc38fa7-60cf-4ea9-fb31-d2a055faec8c"
      },
      "source": [
        "length=len(l2)\n",
        "print(\"Length of the list:\", length)"
      ],
      "execution_count": null,
      "outputs": [
        {
          "output_type": "stream",
          "name": "stdout",
          "text": [
            "Length of the list: 3\n"
          ]
        }
      ]
    },
    {
      "cell_type": "markdown",
      "metadata": {
        "id": "YGt876FMY48p"
      },
      "source": [
        "# ▶ ▶ *Try it yourself*\n",
        "> Calculate length of the list you created of your name."
      ]
    },
    {
      "cell_type": "markdown",
      "metadata": {
        "id": "VlhRswnnn1wH"
      },
      "source": [
        "###object()\n",
        "This function returns an empty object.\n",
        "You can't add new properties or methods to this object."
      ]
    },
    {
      "cell_type": "code",
      "metadata": {
        "colab": {
          "base_uri": "https://localhost:8080/"
        },
        "id": "o8nZSVoanPT0",
        "outputId": "58ecee2f-dba7-4e7b-983e-707e0c5de3b7"
      },
      "source": [
        "l=object()\n",
        "print(l)"
      ],
      "execution_count": null,
      "outputs": [
        {
          "name": "stdout",
          "output_type": "stream",
          "text": [
            "<object object at 0x7efd3ae08c80>\n"
          ]
        }
      ]
    },
    {
      "cell_type": "code",
      "metadata": {
        "colab": {
          "base_uri": "https://localhost:8080/"
        },
        "id": "Xt7rZ5KzpANt",
        "outputId": "e7bd78e7-4a82-46bb-a6ec-c08b3b4fda8d"
      },
      "source": [
        "x=object() # initialising x and y as any object.\n",
        "y=object()\n",
        "x_list=[x]*10 # replicating x 10 times\n",
        "y_list=[y]*10\n",
        "big_list=x_list + y_list\n",
        "print(\"x_list contain %d objects\" % len(x_list))\n",
        "print(\"y_list contain %d objects\" % len(y_list))\n",
        "print(\"big_list contain %d objects\" % len(big_list))\n",
        "if x_list.count(x)==10 and y_list.count(y)==10: #counts how many times x,y are in x_list and y_list() respectively.\n",
        "  print(\"Almost there...\")\n",
        "if big_list.count(x)==10 and big_list.count(y)==10:\n",
        "  print(\"Great!\")\n"
      ],
      "execution_count": null,
      "outputs": [
        {
          "name": "stdout",
          "output_type": "stream",
          "text": [
            "x_list contain 10 objects\n",
            "y_list contain 10 objects\n",
            "big_list contain 20 objects\n",
            "Almost there...\n",
            "Great!\n"
          ]
        }
      ]
    },
    {
      "cell_type": "markdown",
      "metadata": {
        "id": "pdJkpajJOdJN"
      },
      "source": [
        "###Strings\n",
        "- String length can be obtained using len() function.\n",
        "- index() can be used to get the position of the specified character."
      ]
    },
    {
      "cell_type": "code",
      "metadata": {
        "colab": {
          "base_uri": "https://localhost:8080/"
        },
        "id": "6e2VuPM1Py7W",
        "outputId": "db4b1054-a68d-48cd-e5ca-0d28853ec5d7"
      },
      "source": [
        "#Using two or more argument specifiers\n",
        "name=\"Navya\"\n",
        "age=18\n",
        "print(\"%s is %d years old.\" % (name,age))"
      ],
      "execution_count": null,
      "outputs": [
        {
          "name": "stdout",
          "output_type": "stream",
          "text": [
            "Navya is 18 years old.\n"
          ]
        }
      ]
    },
    {
      "cell_type": "code",
      "metadata": {
        "colab": {
          "base_uri": "https://localhost:8080/"
        },
        "id": "BRp7U3SU3I2L",
        "outputId": "65f4be3b-d701-4e42-ebdd-ef62b573019a"
      },
      "source": [
        "my_list = ['skill','talent','job']\n",
        "print(\"A list: %s\" % my_list)"
      ],
      "execution_count": null,
      "outputs": [
        {
          "name": "stdout",
          "output_type": "stream",
          "text": [
            "A list: ['skill', 'talent', 'job']\n"
          ]
        }
      ]
    },
    {
      "cell_type": "code",
      "metadata": {
        "colab": {
          "base_uri": "https://localhost:8080/"
        },
        "id": "srcK2MmSQxgk",
        "outputId": "0d9a701d-ece2-47c1-d7b7-ef35457179c4"
      },
      "source": [
        "data=(\"John\",\"Doe\",53.44)\n",
        "format_string=\"Hello %s %s. Your current balance is $%f\"\n",
        "print(format_string % data)"
      ],
      "execution_count": null,
      "outputs": [
        {
          "name": "stdout",
          "output_type": "stream",
          "text": [
            "Hello John Doe. Your current balance is $53.440000\n"
          ]
        }
      ]
    },
    {
      "cell_type": "code",
      "metadata": {
        "colab": {
          "base_uri": "https://localhost:8080/"
        },
        "id": "1A0puCqPSaf8",
        "outputId": "c549bd47-b744-451d-94eb-47f1a83bcf90"
      },
      "source": [
        "astring=(\"Hello world!\")\n",
        "print(len(astring)) #Counts all punctuation,character and spaces.\n",
        "print(astring.index(\"o\")) # Indexing starts from 0. Prints out the position of first o.\n",
        "print(astring.count(\"l\"))"
      ],
      "execution_count": null,
      "outputs": [
        {
          "name": "stdout",
          "output_type": "stream",
          "text": [
            "12\n",
            "4\n",
            "3\n"
          ]
        }
      ]
    },
    {
      "cell_type": "code",
      "metadata": {
        "colab": {
          "base_uri": "https://localhost:8080/"
        },
        "id": "2hitqHLJTz_m",
        "outputId": "c1ac1ce8-9ca5-4e0c-8037-a4b03f8b188f"
      },
      "source": [
        "print(astring[3:7])#includes 3rd position to 6th.\n",
        "print(astring[3:])#prints 3rd to the end.\n",
        "print(astring[:3])#prints from beginning upto third position.\n",
        "print(astring[3:9:2])#prints from 3rd to 9th with an increment of 2.\n",
        "print(astring[::-1])#prints in reverse"
      ],
      "execution_count": null,
      "outputs": [
        {
          "name": "stdout",
          "output_type": "stream",
          "text": [
            "lo w\n",
            "lo world!\n",
            "Hel\n",
            "l o\n",
            "!dlrow olleH\n"
          ]
        }
      ]
    },
    {
      "cell_type": "code",
      "metadata": {
        "colab": {
          "base_uri": "https://localhost:8080/"
        },
        "id": "BGfWLXu-V3tM",
        "outputId": "d62708bd-c557-4078-c57a-69202d496b44"
      },
      "source": [
        "print(astring.upper())\n",
        "print(astring.lower())"
      ],
      "execution_count": null,
      "outputs": [
        {
          "name": "stdout",
          "output_type": "stream",
          "text": [
            "HELLO WORLD!\n",
            "hello world!\n"
          ]
        }
      ]
    },
    {
      "cell_type": "code",
      "metadata": {
        "colab": {
          "base_uri": "https://localhost:8080/"
        },
        "id": "40sS_inzWEF1",
        "outputId": "bb54cc85-8ace-4f33-8736-01720b58cc58"
      },
      "source": [
        "print(astring.startswith(\"Hello\"))\n",
        "print(astring.endswith(\"foo\"))\n",
        "print(astring.startswith(\"H\"))\n"
      ],
      "execution_count": null,
      "outputs": [
        {
          "name": "stdout",
          "output_type": "stream",
          "text": [
            "True\n",
            "False\n",
            "True\n"
          ]
        }
      ]
    },
    {
      "cell_type": "code",
      "metadata": {
        "colab": {
          "base_uri": "https://localhost:8080/"
        },
        "id": "UCsSILHK7SCT",
        "outputId": "315a7e4e-b826-4346-8eba-d4f85ca9ef0b"
      },
      "source": [
        "astring = \"Hello world!\"\n",
        "afewwords = astring.split(\" \") \n",
        "# splits the string from wherever the blankspace is or any other specified character and forms a list. \n",
        "print(afewwords)\n",
        "print(len(afewwords))\n",
        "print(len(astring))"
      ],
      "execution_count": null,
      "outputs": [
        {
          "name": "stdout",
          "output_type": "stream",
          "text": [
            "['Hello', 'world!']\n",
            "2\n",
            "12\n"
          ]
        }
      ]
    },
    {
      "cell_type": "code",
      "metadata": {
        "colab": {
          "base_uri": "https://localhost:8080/"
        },
        "id": "_ZTSWQUiX1eV",
        "outputId": "bbfb7609-23b4-4af1-f632-d796b3ecc7b7"
      },
      "source": [
        "s=\"Strings are awesome!\"\n",
        "print(\"Length of s=%d\" % len(s))\n",
        "print(\"The first occurrence of the letter a = %d\" % s.index(\"a\"))\n",
        "print(\"a occurs %d times\" % s.count(\"a\"))\n",
        "print(\"The first five characters are '%s'\" % s[:5]) # Start to 5\n",
        "print(\"The next five characters are '%s'\" % s[5:10]) # 5 to 9\n",
        "print(\"The thirteenth character is '%s'\" % s[12]) # Just number 12\n",
        "print(\"The characters with odd index are '%s'\" %s[1::2]) #(0-based indexing)\n",
        "print(\"The last five characters are '%s'\" % s[-5:]) # 5th-from-last to end\n",
        "print(\"String in uppercase: %s\" % s.upper())\n",
        "print(\"String in lowercase: %s\" % s.lower())\n",
        "if s.startswith(\"Str\"):\n",
        "    print(\"String starts with 'Str'. Good!\")\n",
        "if s.endswith(\"ome!\"):\n",
        "    print(\"String ends with 'ome!'. Good!\")\n",
        "# Split the string into three separate strings,\n",
        "# each containing only a word\n",
        "print(\"Split the words of the string: %s\" % s.split(\" \"))"
      ],
      "execution_count": null,
      "outputs": [
        {
          "name": "stdout",
          "output_type": "stream",
          "text": [
            "Length of s=20\n",
            "The first occurrence of the letter a = 8\n",
            "a occurs 2 times\n",
            "The first five characters are 'Strin'\n",
            "The next five characters are 'gs ar'\n",
            "The thirteenth character is 'a'\n",
            "The characters with odd index are 'tig r wsm!'\n",
            "The last five characters are 'some!'\n",
            "String in uppercase: STRINGS ARE AWESOME!\n",
            "String in lowercase: strings are awesome!\n",
            "String starts with 'Str'. Good!\n",
            "String ends with 'ome!'. Good!\n",
            "Split the words of the string: ['Strings', 'are', 'awesome!']\n"
          ]
        }
      ]
    },
    {
      "cell_type": "markdown",
      "metadata": {
        "id": "YXx9mqlEcf7v"
      },
      "source": [
        "###Empty objects\n",
        "1. An empty string: \" \"\n",
        "2. An empty list: [ ]\n",
        "3. The number zero: 0\n",
        "4. The false boolean variable: False"
      ]
    },
    {
      "cell_type": "markdown",
      "metadata": {
        "id": "bbTf8mAlcxl4"
      },
      "source": [
        "###is() operator\n",
        "Unlike the double equals operator \"==\", the \"is\" operator does not match the values of the variables, but the instances themselves."
      ]
    },
    {
      "cell_type": "code",
      "metadata": {
        "colab": {
          "base_uri": "https://localhost:8080/"
        },
        "id": "aLAQlCiWdB7U",
        "outputId": "336a124a-10e0-4a25-f999-0e0929de00fe"
      },
      "source": [
        "x = [1,2,3]\n",
        "y = [1,2,3]\n",
        "print(x == y)\n",
        "print(x is y) #x is equal to y but x is not y."
      ],
      "execution_count": null,
      "outputs": [
        {
          "name": "stdout",
          "output_type": "stream",
          "text": [
            "True\n",
            "False\n"
          ]
        }
      ]
    },
    {
      "cell_type": "markdown",
      "metadata": {
        "id": "t8bOq27ndVZv"
      },
      "source": [
        "###not operator\n",
        "prints true if operand is false and vice versa."
      ]
    },
    {
      "cell_type": "code",
      "metadata": {
        "colab": {
          "base_uri": "https://localhost:8080/"
        },
        "id": "rFQuNfcWd43W",
        "outputId": "5149df64-81fb-46db-f294-8b76133c1f1e"
      },
      "source": [
        "print(not False) # Prints out True\n",
        "print((not False) == (False)) # Prints out False"
      ],
      "execution_count": null,
      "outputs": [
        {
          "name": "stdout",
          "output_type": "stream",
          "text": [
            "True\n",
            "False\n"
          ]
        }
      ]
    },
    {
      "cell_type": "code",
      "metadata": {
        "colab": {
          "base_uri": "https://localhost:8080/"
        },
        "id": "-qXUUqtjex-c",
        "outputId": "2fee004a-9769-4ec1-f51d-003e0adc2d80"
      },
      "source": [
        "number = 20\n",
        "second_number = 0\n",
        "first_array = [1,4,5]\n",
        "second_array = [1,2]\n",
        "if number > 15:\n",
        "    print(\"1\")\n",
        "if first_array:\n",
        "    print(\"2\")\n",
        "if len(second_array) == 2:\n",
        "    print(\"3\")\n",
        "if len(first_array) + len(second_array) == 5:\n",
        "    print(\"4\")\n",
        "if first_array and first_array[0] == 1:\n",
        "    print(\"5\")\n",
        "if not second_number:\n",
        "    print(\"6\")"
      ],
      "execution_count": null,
      "outputs": [
        {
          "name": "stdout",
          "output_type": "stream",
          "text": [
            "1\n",
            "2\n",
            "3\n",
            "4\n",
            "5\n",
            "6\n"
          ]
        }
      ]
    },
    {
      "cell_type": "code",
      "metadata": {
        "colab": {
          "base_uri": "https://localhost:8080/"
        },
        "id": "Ktea-I0_jlXE",
        "outputId": "d4de963c-aa07-42a5-8bbb-2e2df39be6ad"
      },
      "source": [
        "persons = [\"Jeff\", \"Mark\", \"Ivan\"]\n",
        "for x in persons:\n",
        "    print(x)\n",
        "    if x == \"Mark\":  #When x is Mark, loop breaks\n",
        "        break"
      ],
      "execution_count": null,
      "outputs": [
        {
          "name": "stdout",
          "output_type": "stream",
          "text": [
            "Jeff\n",
            "Mark\n"
          ]
        }
      ]
    },
    {
      "cell_type": "code",
      "metadata": {
        "colab": {
          "base_uri": "https://localhost:8080/"
        },
        "id": "3bf5_DlwjvR_",
        "outputId": "0abc9868-1673-49d1-9033-b8f5ef0829bf"
      },
      "source": [
        "persons = [\"Jeff\", \"Mark\", \"Ivan\"]\n",
        "for x in persons:\n",
        "    if x == \"Mark\": #When x is Mark, nothing is printed and the loop execution continues\n",
        "        continue\n",
        "    print(x)"
      ],
      "execution_count": null,
      "outputs": [
        {
          "name": "stdout",
          "output_type": "stream",
          "text": [
            "Jeff\n",
            "Ivan\n"
          ]
        }
      ]
    },
    {
      "cell_type": "code",
      "metadata": {
        "colab": {
          "base_uri": "https://localhost:8080/"
        },
        "id": "8zzi-OWbkMfs",
        "outputId": "afd9b97d-f3e4-4bd3-84e4-d71a8604fc1e"
      },
      "source": [
        "persons = [\"Jeff\", \"Mark\", \"Ivan\"]\n",
        "for x in persons:\n",
        "    print(x)\n",
        "else:\n",
        "    print(\"Finished printing persons.\")\n",
        "persons = [\"Jeff\", \"Mark\", \"Ivan\"]\n",
        "for x in persons:\n",
        "    print(x)\n",
        "    if x == \"Mark\": #When x is Mark, loop breaks.\n",
        "        break\n",
        "    else:\n",
        "        print(\"Finished printing persons.\")"
      ],
      "execution_count": null,
      "outputs": [
        {
          "name": "stdout",
          "output_type": "stream",
          "text": [
            "Jeff\n",
            "Mark\n",
            "Ivan\n",
            "Finished printing persons.\n",
            "Jeff\n",
            "Finished printing persons.\n",
            "Mark\n"
          ]
        }
      ]
    },
    {
      "cell_type": "code",
      "metadata": {
        "colab": {
          "base_uri": "https://localhost:8080/"
        },
        "id": "IeyOr6StktFf",
        "outputId": "ffbd9524-4d5f-4a3b-b84b-07809ccddb41"
      },
      "source": [
        "color = [\"red\", \"black\", \"white\", \"yellow\"]\n",
        "cars = [\"Volkswagen\", \"Ford\", \"Nissan\",\"Tesla\"]\n",
        "for x in range(0,len(color)):\n",
        "        print(cars[x], color[x])"
      ],
      "execution_count": null,
      "outputs": [
        {
          "name": "stdout",
          "output_type": "stream",
          "text": [
            "Volkswagen red\n",
            "Ford black\n",
            "Nissan white\n",
            "Tesla yellow\n"
          ]
        }
      ]
    },
    {
      "cell_type": "code",
      "metadata": {
        "id": "ouHJBy3pk6N-"
      },
      "source": [
        "for x in [0, 1, 2, 3, 4, 5]: # No execution error takes place because of pass.\n",
        "    pass"
      ],
      "execution_count": null,
      "outputs": []
    },
    {
      "cell_type": "code",
      "metadata": {
        "id": "dc4nD1RRlMVD"
      },
      "source": [
        "numbers = [951, 402, 984, 651, 360, 69, 408, 319, 601, 485, 980, 507, 725, 547, 544,\n",
        "    615, 83, 165, 141, 501, 263, 617, 865, 575, 219, 390, 984, 592, 236, 105, 942, 941,\n",
        "    386, 462, 47, 418, 907, 344, 236, 375, 823, 566, 597, 978, 328, 615, 953, 345,\n",
        "    399, 162, 758, 219, 918, 237, 412, 566, 826, 248, 866, 950, 626, 949, 687, 217,\n",
        "    815, 67, 104, 58, 512, 24, 892, 894, 767, 553, 81, 379, 843, 831, 445, 742, 717,\n",
        "    958, 609, 842, 451, 688, 753, 854, 685, 93, 857, 440, 380, 126, 721, 328, 753, 470,\n",
        "    743, 527]\n",
        "for number in numbers:\n",
        "    if number == 237:\n",
        "        break\n",
        "    if number % 2 == 0:\n",
        "        print(number)\n",
        "\n"
      ],
      "execution_count": null,
      "outputs": []
    },
    {
      "cell_type": "markdown",
      "metadata": {
        "id": "xWC4hBACPXNE"
      },
      "source": [
        "##Functions\n",
        "- Block of code which only runs when it is called.\n",
        "- You can pass data, known as parameters, into a function.\n",
        "- A function can return data as a result.\n",
        "- Defined using the 'def' keyword.\n",
        "- Followed with the function's name.\n",
        "- Functions may also receive arguments (variables passed from the caller to the function).\n",
        "- Functions may return a value to the caller, using the keyword-'return'.\n",
        "- To call a function, use the function name followed by parenthesis.\n",
        "###Arguments\n",
        "- Information can be passed into functions as arguments.\n",
        "- Specified after the function name, inside the parentheses.\n",
        "- Can add as many arguments as you want, just separate them with a comma.\n",
        "- Function must be called with the correct number of arguments.\n",
        "- If the number of arguments is unknown, add a * before the parameter name.\n",
        "- **Keyword Arguments**:You can also send arguments with the key = value syntax.\n",
        "This way the order of the arguments does not matter.\n",
        "- If you do not know how many keyword arguments that will be passed into your function, add two asterisk: ** before the parameter name in the function definition.This way the function will receive a dictionary of arguments, and can access the items accordingly.\n",
        "\n"
      ]
    },
    {
      "cell_type": "code",
      "metadata": {
        "colab": {
          "base_uri": "https://localhost:8080/"
        },
        "id": "PO7gbnA0p7xS",
        "outputId": "f3a27877-1e2e-4f02-91ed-89524122f337"
      },
      "source": [
        "def my_function(): #declaration of a function\n",
        "   print(\"This is a function!\") #function body\n",
        "my_function() #function calling"
      ],
      "execution_count": null,
      "outputs": [
        {
          "name": "stdout",
          "output_type": "stream",
          "text": [
            "This is a function!\n"
          ]
        }
      ]
    },
    {
      "cell_type": "code",
      "metadata": {
        "colab": {
          "base_uri": "https://localhost:8080/"
        },
        "id": "4D68v7CEqutE",
        "outputId": "73340a57-9c99-4751-c9b0-9f3305e023fb"
      },
      "source": [
        "def my_function_with_args(username, greeting):\n",
        "    print(\"Hello %s! Have a  %s\" % (username, greeting))\n",
        "my_function_with_args(\"Navya\", \"nice day!\")"
      ],
      "execution_count": null,
      "outputs": [
        {
          "name": "stdout",
          "output_type": "stream",
          "text": [
            "Hello Navya! Have a  nice day!\n"
          ]
        }
      ]
    },
    {
      "cell_type": "code",
      "metadata": {
        "colab": {
          "base_uri": "https://localhost:8080/"
        },
        "id": "7YU2ITEXrwUz",
        "outputId": "470319b2-abdb-48e1-c94f-93f886891258"
      },
      "source": [
        "def sum_two_numbers(a, b):\n",
        "    return a + b\n",
        "sum = sum_two_numbers(5,2)\n",
        "print(sum)"
      ],
      "execution_count": null,
      "outputs": [
        {
          "name": "stdout",
          "output_type": "stream",
          "text": [
            "7\n"
          ]
        }
      ]
    },
    {
      "cell_type": "code",
      "metadata": {
        "colab": {
          "base_uri": "https://localhost:8080/"
        },
        "id": "aKwo4Kfqr5A1",
        "outputId": "401d0903-5605-4aa4-9dab-cf6f512ba712"
      },
      "source": [
        "my_function()\n",
        "my_function_with_args(\"Navya\", \"a great year!\")\n",
        "x = sum_two_numbers(1,2)\n",
        "print(\"The value of x is \", x)"
      ],
      "execution_count": null,
      "outputs": [
        {
          "name": "stdout",
          "output_type": "stream",
          "text": [
            "This is a function!\n",
            "Hello Navya! Have a  a great year!\n",
            "The value of x is  3\n"
          ]
        }
      ]
    },
    {
      "cell_type": "code",
      "metadata": {
        "colab": {
          "base_uri": "https://localhost:8080/"
        },
        "id": "xpwCmsSptaGG",
        "outputId": "251eda14-55e0-473a-9d81-89ac1dd5ac49"
      },
      "source": [
        "def list_benefits():\n",
        "    return \"More organized code\", \"More readable code\", \"Easier code reuse\", \"Allowing programmers to share and connect code together\"\n",
        "def build_sentence(benefit):\n",
        "    return \"%s is a benefit of functions!\" % benefit\n",
        "def name_the_benefits_of_functions():\n",
        "    list_of_benefits = list_benefits()\n",
        "    for benefit in list_of_benefits:\n",
        "        print(build_sentence(benefit))\n",
        "name_the_benefits_of_functions()"
      ],
      "execution_count": null,
      "outputs": [
        {
          "name": "stdout",
          "output_type": "stream",
          "text": [
            "More organized code is a benefit of functions!\n",
            "More readable code is a benefit of functions!\n",
            "Easier code reuse is a benefit of functions!\n",
            "Allowing programmers to share and connect code together is a benefit of functions!\n"
          ]
        }
      ]
    },
    {
      "cell_type": "code",
      "metadata": {
        "colab": {
          "base_uri": "https://localhost:8080/"
        },
        "id": "BHFWoUo2uKQy",
        "outputId": "29342a82-3d3e-4ca9-b277-5858db195d83"
      },
      "source": [
        "def pythagoras(perpendicular,base):\n",
        "  hypotenuse=(perpendicular**2 + base**2)**0.5\n",
        "  print(\"The length of the hypotenuse is: %d\" % hypotenuse)\n",
        "pythagoras(3,4)\n",
        "pythagoras(5,12)\n"
      ],
      "execution_count": null,
      "outputs": [
        {
          "name": "stdout",
          "output_type": "stream",
          "text": [
            "The length of the hypotenuse is: 5\n",
            "The length of the hypotenuse is: 13\n"
          ]
        }
      ]
    },
    {
      "cell_type": "code",
      "metadata": {
        "colab": {
          "base_uri": "https://localhost:8080/"
        },
        "id": "uIvamty1wZOH",
        "outputId": "43f9014a-9727-43b5-a914-663342bff41e"
      },
      "source": [
        "def my_function(fname, lname): #function expects two arguments, gets two.\n",
        "  print(fname + \" \" + lname)\n",
        "\n",
        "my_function(\"Navya\", \"Tyagi\")"
      ],
      "execution_count": null,
      "outputs": [
        {
          "name": "stdout",
          "output_type": "stream",
          "text": [
            "Navya Tyagi\n"
          ]
        }
      ]
    },
    {
      "cell_type": "code",
      "metadata": {
        "colab": {
          "base_uri": "https://localhost:8080/"
        },
        "id": "woW1K2F4xEvB",
        "outputId": "777283cd-5dd6-412d-a1bc-4ad5280cc772"
      },
      "source": [
        "def my_function(*kids): # * is used since we are unsure about the number of parameters.\n",
        "  print(\"The youngest child is \" + kids[1]) #1st position is taken from the given tuple.\n",
        "\n",
        "my_function(\"Navya\", \"Vedansh\", \"Divya\")"
      ],
      "execution_count": null,
      "outputs": [
        {
          "name": "stdout",
          "output_type": "stream",
          "text": [
            "The youngest child is Vedansh\n"
          ]
        }
      ]
    },
    {
      "cell_type": "code",
      "metadata": {
        "colab": {
          "base_uri": "https://localhost:8080/"
        },
        "id": "K0EZ8xFv7ckP",
        "outputId": "978706bd-77c7-4de1-f3d2-0b76a0bd35c3"
      },
      "source": [
        "def my_function(child3, child2, child1): #Using keyword arguments. Order does not matter.\n",
        "  print(\"The youngest child is \" + child3)\n",
        "\n",
        "my_function(child1 = \"Navya\", child2 = \"Divya\", child3 = \"Vedansh\")"
      ],
      "execution_count": null,
      "outputs": [
        {
          "name": "stdout",
          "output_type": "stream",
          "text": [
            "The youngest child is Vedansh\n"
          ]
        }
      ]
    },
    {
      "cell_type": "code",
      "metadata": {
        "id": "VNNPPXTM8H54"
      },
      "source": [
        "def my_function(**kid): #If the number of keyword arguments is unknown, add a double ** before the parameter name.\n",
        "  print(\"His last name is \" + kid[\"lname\"])\n",
        "\n",
        "my_function(fname = \"Navya\", lname = \"Tyagi\")"
      ],
      "execution_count": null,
      "outputs": []
    },
    {
      "cell_type": "code",
      "metadata": {
        "colab": {
          "base_uri": "https://localhost:8080/"
        },
        "id": "bt3z5xo-8tSS",
        "outputId": "0eafd648-6436-4e11-dfd2-4e546aa5c5a6"
      },
      "source": [
        "def my_function(country = \"Norway\"): #If we call the function without argument, it uses the default value.\n",
        "  print(\"I am from \" + country)\n",
        "\n",
        "my_function(\"Sweden\")\n",
        "my_function(\"India\")\n",
        "my_function()\n",
        "my_function(\"Brazil\")"
      ],
      "execution_count": null,
      "outputs": [
        {
          "name": "stdout",
          "output_type": "stream",
          "text": [
            "I am from Sweden\n",
            "I am from India\n",
            "I am from Norway\n",
            "I am from Brazil\n"
          ]
        }
      ]
    },
    {
      "cell_type": "code",
      "metadata": {
        "colab": {
          "base_uri": "https://localhost:8080/"
        },
        "id": "vFpt1IIf9da4",
        "outputId": "45ce4b63-a62c-441c-e09b-5e6c30a7b5e1"
      },
      "source": [
        "#You can send any data types of argument to a function (string, number, list, dictionary etc.)\n",
        "#it will be treated as the same data type inside the function.\n",
        "def my_function(food):\n",
        "  for x in food:\n",
        "    print(x)\n",
        "\n",
        "fruits = [\"apple\", \"banana\", \"cherry\"]\n",
        "\n",
        "my_function(fruits)\n"
      ],
      "execution_count": null,
      "outputs": [
        {
          "name": "stdout",
          "output_type": "stream",
          "text": [
            "apple\n",
            "banana\n",
            "cherry\n"
          ]
        }
      ]
    },
    {
      "cell_type": "code",
      "metadata": {
        "colab": {
          "base_uri": "https://localhost:8080/"
        },
        "id": "EM7CblYC9z8M",
        "outputId": "2bce20fb-dfff-41e8-992f-d74ed66e0ee3"
      },
      "source": [
        "def my_function(x):\n",
        "  return 5 * x\n",
        "\n",
        "print(my_function(3))\n",
        "print(my_function(5))\n",
        "print(my_function(9))"
      ],
      "execution_count": null,
      "outputs": [
        {
          "name": "stdout",
          "output_type": "stream",
          "text": [
            "15\n",
            "25\n",
            "45\n"
          ]
        }
      ]
    },
    {
      "cell_type": "markdown",
      "metadata": {
        "id": "o82RRpqTLyia"
      },
      "source": [
        "###Dictionary\n",
        "- Store data values in key:value pairs.\n",
        "- Each value stored in a dictionary can be accessed using a key, which is any type of object (a string, a number, a list, etc.) instead of using its index to address it.\n",
        "- Curly brackets{} are used.\n",
        "- Are not ordered.\n",
        "- items() is used to access key-value pair of dictionary. It doesn't takes any arguments.\n",
        "- To remove a specified index, use either del or pop. "
      ]
    },
    {
      "cell_type": "code",
      "metadata": {
        "colab": {
          "base_uri": "https://localhost:8080/"
        },
        "id": "4CeLLlphNS1U",
        "outputId": "069d2b82-a2b3-43bf-cc23-f8d836e249a3"
      },
      "source": [
        "phonebook = {} #initialising an empty dictionary.\n",
        "phonebook[\"John\"] = 938477566 #giving values to the specified keys\n",
        "phonebook[\"Jack\"] = 938377264\n",
        "phonebook[\"Jill\"] = 947662781\n",
        "print(phonebook)"
      ],
      "execution_count": null,
      "outputs": [
        {
          "name": "stdout",
          "output_type": "stream",
          "text": [
            "{'John': 938477566, 'Jack': 938377264, 'Jill': 947662781}\n"
          ]
        }
      ]
    },
    {
      "cell_type": "code",
      "metadata": {
        "colab": {
          "base_uri": "https://localhost:8080/"
        },
        "id": "PD1qtgKvOGPZ",
        "outputId": "eb2b1673-30cf-4cc9-e9b7-e24c681f5671"
      },
      "source": [
        "model={\"Maruti\":\"red\", \"Ford\":\"white\",\"Tesla\":\"black\"}\n",
        "print(model)\n"
      ],
      "execution_count": null,
      "outputs": [
        {
          "name": "stdout",
          "output_type": "stream",
          "text": [
            "{'Maruti': 'red', 'Ford': 'white', 'Tesla': 'black'}\n"
          ]
        }
      ]
    },
    {
      "cell_type": "code",
      "metadata": {
        "colab": {
          "base_uri": "https://localhost:8080/"
        },
        "id": "qQO6m-MRO3_n",
        "outputId": "c4e97b51-7240-477a-ea2a-6ece0705d34d"
      },
      "source": [
        "phonebook = {\"Raymond\" : 938477566,\"Ivan\" : 938377264,\"Rich\" : 947662781}\n",
        "for name, number in phonebook.items():\n",
        "    print(\"Phone number of %s is %d\" % (name, number))"
      ],
      "execution_count": null,
      "outputs": [
        {
          "name": "stdout",
          "output_type": "stream",
          "text": [
            "Phone number of Raymond is 938477566\n",
            "Phone number of Ivan is 938377264\n",
            "Phone number of Rich is 947662781\n"
          ]
        }
      ]
    },
    {
      "cell_type": "code",
      "metadata": {
        "colab": {
          "base_uri": "https://localhost:8080/"
        },
        "id": "Ot2NGewjPwqR",
        "outputId": "87d20108-e082-4c82-d58e-a46be98f92ce"
      },
      "source": [
        "del model [\"Ford\"]\n",
        "print(model)"
      ],
      "execution_count": null,
      "outputs": [
        {
          "name": "stdout",
          "output_type": "stream",
          "text": [
            "{'Maruti': 'red', 'Tesla': 'black'}\n"
          ]
        }
      ]
    },
    {
      "cell_type": "code",
      "metadata": {
        "colab": {
          "base_uri": "https://localhost:8080/"
        },
        "id": "jjWCSFv7QCtz",
        "outputId": "0424a233-1a6e-4628-f7a6-7344068753bc"
      },
      "source": [
        "phonebook.pop(\"Raymond\")\n",
        "print(phonebook)"
      ],
      "execution_count": null,
      "outputs": [
        {
          "name": "stdout",
          "output_type": "stream",
          "text": [
            "{'Ivan': 938377264, 'Rich': 947662781}\n"
          ]
        }
      ]
    },
    {
      "cell_type": "markdown",
      "metadata": {
        "id": "uq633wyC-CL3"
      },
      "source": [
        "##Module/Packages\n",
        "- piece of software that has a particular functionality.\n",
        "- For example, one module would be in control of the game logic in creating a ping pong game, and another module would be in charge of drawing the game on the screen.\n",
        "- Each module is a different file that can be separately edited.\n",
        "###Importing module objects to the current namespace\n",
        "1. The import statement: import (module name)- imports the whole module at once.\n",
        "2. The from import statement: from (module name) import (function/s)- imports one or more specifies functionns from the module.\n",
        "3. The from import * statement: We may also use the import * command to import all objects from a specific module.\n",
        "###Custom import name:\n",
        "We may also load modules under any name we want. This is useful when we want to import a module conditionally to use the same name in the rest of the code. \n",
        "Ex- import draw_visual as draw\n",
        "\n"
      ]
    },
    {
      "cell_type": "code",
      "metadata": {
        "colab": {
          "base_uri": "https://localhost:8080/"
        },
        "id": "_tuQJO89ie2M",
        "outputId": "c785fcfa-2980-49d6-b7c6-41f33773f551"
      },
      "source": [
        "# importing sqrt() and factorial from the\n",
        "# module math\n",
        "from math import sqrt, factorial\n",
        " # if we simply do \"import math\", then\n",
        "# math.sqrt(16) and math.factorial()\n",
        "# are required.\n",
        "print(sqrt(16))\n",
        "print(factorial(6))"
      ],
      "execution_count": null,
      "outputs": [
        {
          "name": "stdout",
          "output_type": "stream",
          "text": [
            "4.0\n",
            "720\n"
          ]
        }
      ]
    },
    {
      "cell_type": "code",
      "metadata": {
        "colab": {
          "base_uri": "https://localhost:8080/"
        },
        "id": "7Ij-yb2Aj8Le",
        "outputId": "7dd74f46-0275-478e-8b23-33e271183ded"
      },
      "source": [
        "# importing built-in module math\n",
        "import math\n",
        "# using pi function contained in math module\n",
        "print(math.pi)\n",
        "# converting degree into radians\n",
        "print(math.degrees(2)) \n",
        "# converting degrees into radians\n",
        "print(math.radians(60)) \n",
        "print(math.sin(2)) \n",
        "print(math.cos(0.5)) \n",
        "print(math.tan(0.23))"
      ],
      "execution_count": null,
      "outputs": [
        {
          "name": "stdout",
          "output_type": "stream",
          "text": [
            "3.141592653589793\n",
            "114.59155902616465\n",
            "1.0471975511965976\n",
            "0.9092974268256817\n",
            "0.8775825618903728\n",
            "0.23414336235146527\n"
          ]
        }
      ]
    },
    {
      "cell_type": "code",
      "metadata": {
        "colab": {
          "base_uri": "https://localhost:8080/"
        },
        "id": "yHHj7Bwhk7D_",
        "outputId": "995159dc-951f-446a-f1e0-6613d3bdd35e"
      },
      "source": [
        "# importing built in module random\n",
        "import random\n",
        "# printing random integer between 0 and 5\n",
        "print(random.randint(0, 5)) \n",
        "# print random floating point number between 0 and 1\n",
        "print(random.random()) \n",
        "# random number between 0 and 100\n",
        "print(random.random()* 100) "
      ],
      "execution_count": null,
      "outputs": [
        {
          "name": "stdout",
          "output_type": "stream",
          "text": [
            "1\n",
            "0.03075778155832376\n",
            "85.82953219022724\n"
          ]
        }
      ]
    },
    {
      "cell_type": "code",
      "metadata": {
        "colab": {
          "base_uri": "https://localhost:8080/"
        },
        "id": "aoWn9Q8Cld9g",
        "outputId": "330ce66d-b514-4f81-f403-e7ebaf5fd0ae"
      },
      "source": [
        "List = [1, 4, True, 800, \"python\", 27, \"hello\"]\n",
        " # using choice function in random module for choosing\n",
        "# a random element from a set such as a list\n",
        "print(random.choice(List))\n",
        " "
      ],
      "execution_count": null,
      "outputs": [
        {
          "name": "stdout",
          "output_type": "stream",
          "text": [
            "4\n"
          ]
        }
      ]
    },
    {
      "cell_type": "code",
      "metadata": {
        "colab": {
          "base_uri": "https://localhost:8080/"
        },
        "id": "wYlGxC61nRI0",
        "outputId": "2ef4e7b0-c2f1-4344-ce4e-d6affd1e8a6d"
      },
      "source": [
        "# importing re module in python\n",
        "import re\n",
        "#initialising a list\n",
        "finds = []\n",
        "# dir() function returns all properties and methods of the specified object, without the values.\n",
        "for member in dir(re):\n",
        "    if \"find\" in member:\n",
        "        finds.append(member)\n",
        "print(sorted(finds))"
      ],
      "execution_count": null,
      "outputs": [
        {
          "name": "stdout",
          "output_type": "stream",
          "text": [
            "['findall', 'finditer']\n"
          ]
        }
      ]
    },
    {
      "cell_type": "markdown",
      "metadata": {
        "id": "Az8-fbYmXmSj"
      },
      "source": [
        "###Objects and Classes\n",
        "* Objects are an encapsulation of variables and functions into a single entity.\n",
        "* Objects get their variables and functions from classes.\n",
        "* Classes are essentially a template to create objects.\n",
        "* 'class' keyword is used o declare a class.\n",
        "* You can create multiple different objects that are of the same class.\n",
        " \n"
      ]
    },
    {
      "cell_type": "code",
      "metadata": {
        "colab": {
          "base_uri": "https://localhost:8080/"
        },
        "id": "EUjf17lLYkg8",
        "outputId": "35815a79-ec1f-4fb0-eabb-9513e470a112"
      },
      "source": [
        "class MyClass:\n",
        "    myString = \"Hello\"\n",
        "    def function(self):\n",
        "        print(\"This is a message inside the class.\")\n",
        "#assigning the class to an object.\n",
        "myobjectx = MyClass()\n",
        "myobjectx.myString #accessing the variable 'myString'\n",
        "print(myobjectx.myString)"
      ],
      "execution_count": null,
      "outputs": [
        {
          "name": "stdout",
          "output_type": "stream",
          "text": [
            "Hello\n"
          ]
        }
      ]
    },
    {
      "cell_type": "code",
      "metadata": {
        "colab": {
          "base_uri": "https://localhost:8080/"
        },
        "id": "v7T9ljQfZtLa",
        "outputId": "1c3ba221-e2a9-494a-bca8-29c79b8a55f7"
      },
      "source": [
        "class MyClass:\n",
        "    myString = \"Hello\"\n",
        "    def function(self):\n",
        "        print(\"This is a message inside the class.\")\n",
        "myobjectx = MyClass() # different objects of same class.\n",
        "myobjecty = MyClass()\n",
        "myobjecty.myString = \"Python\"\n",
        "# Then print out both values\n",
        "print(myobjectx.myString)\n",
        "print(myobjecty.myString)"
      ],
      "execution_count": null,
      "outputs": [
        {
          "name": "stdout",
          "output_type": "stream",
          "text": [
            "Hello\n",
            "Python\n"
          ]
        }
      ]
    },
    {
      "cell_type": "code",
      "metadata": {
        "colab": {
          "base_uri": "https://localhost:8080/"
        },
        "id": "7SLQdRNDZQRO",
        "outputId": "1dd275e8-a9b9-4258-d9ff-1808d6c5c3e5"
      },
      "source": [
        "#To access a function inside an object you use notation similar to accessing a variable\n",
        "class MyClass:\n",
        "    variable = \"blah\"\n",
        "    def myFunction(self):\n",
        "        print(\"This is a message inside the class.\")\n",
        "myobjectx = MyClass()\n",
        "myobjectx.myFunction()"
      ],
      "execution_count": null,
      "outputs": [
        {
          "name": "stdout",
          "output_type": "stream",
          "text": [
            "This is a message inside the class.\n"
          ]
        }
      ]
    },
    {
      "cell_type": "code",
      "metadata": {
        "colab": {
          "base_uri": "https://localhost:8080/"
        },
        "id": "EL9pnhYKameu",
        "outputId": "1e7ba852-e325-432b-a9bc-3a0c4fe03da5"
      },
      "source": [
        "class Vehicle:\n",
        "    name = \"\"\n",
        "    type= \"car\"\n",
        "    color = \"\"\n",
        "    value = 100.00\n",
        "    def description(self):\n",
        "        desc_str = \"%s is a %s %s worth %.2f.\" % (self.name, self.color, self.type, self.value)\n",
        "        return desc_str\n",
        "car1 = Vehicle()\n",
        "car1.name = \"Ferrari\"\n",
        "car1.color = \"red\"\n",
        "car1.type= \"convertible\"\n",
        "car1.value = 60000.00\n",
        "\n",
        "car2 = Vehicle()\n",
        "car2.name = \"GMC\"\n",
        "car2.color = \"blue\"\n",
        "car2.type= \"van\"\n",
        "car2.value = 10000.00\n",
        "\n",
        "print(car1.description())\n",
        "print(car2.description())"
      ],
      "execution_count": null,
      "outputs": [
        {
          "name": "stdout",
          "output_type": "stream",
          "text": [
            "Ferrari is a red convertible worth 60000.00.\n",
            "GMC is a blue van worth 10000.00.\n"
          ]
        }
      ]
    },
    {
      "cell_type": "markdown",
      "metadata": {
        "id": "WwmiJvXUbkQf"
      },
      "source": [
        "#Python Pandas\n",
        "##What is Pandas?\n",
        "- Pandas is a Python library used for working with data sets.\n",
        "- It has functions for analyzing, cleaning, exploring, and manipulating data.\n",
        "##Why use Pandas?\n",
        "- Pandas allows us to analyze big data and make conclusions based on statistical theories.\n",
        "- Pandas can clean messy data sets, and make them readable and relevant.\n",
        "##What can Pandas Do?\n",
        "Pandas gives you answers about the data. Like:\n",
        "* Is there a correlation between two or more columns?\n",
        "* What is average value?\n",
        "* Max value?\n",
        "* Min value?\n",
        "* Pandas are also able to delete rows that are not relevant, or contains wrong values, like empty or NULL values. This is called cleaning the data.\n",
        "##Dataframe\n",
        "-  A Data frame is a two-dimensional data structure, i.e., data is aligned in a tabular fashion in rows and columns. \n",
        "- Pandas DataFrame consists of three principal components, the data, rows, and columns.\n",
        "- It allow you to store and manipulate tabular data in rows of observations and columns of variables.\n",
        "- One way to create a dataframe is to use dictionary.\n",
        "- Another way to create a DataFrame is by importing a csv file using \n",
        " pd.read_csv(csv file name).\n",
        "- To index a Pandas DataFrame: One of the easiest ways to do this is by using square bracket notation.\n",
        "-  You can either use a single bracket or a double bracket. The single bracket will output a Pandas Series, while a double bracket will output a Pandas DataFrame.\n",
        "- You can also use loc and iloc to perform just about any data selection operation.\n",
        "- loc is label-based, which means that you have to specify rows and columns based on their row and column labels. \n",
        "- iloc is integer index based, so you have to specify rows and columns by their integer index.\n",
        "\n",
        "\n"
      ]
    },
    {
      "cell_type": "code",
      "metadata": {
        "colab": {
          "base_uri": "https://localhost:8080/"
        },
        "id": "aknCc_YhmDi-",
        "outputId": "288e664f-6fa0-4cf8-a841-36ab55b34439"
      },
      "source": [
        "import pandas #importing pandas library\n",
        "mydataset = {\n",
        "  'cars': [\"BMW\", \"Volvo\", \"Ford\"],\n",
        "  'passings': [3, 7, 2]}\n",
        "#Converting a dictionary into dataframe\n",
        "myvar = pandas.DataFrame(mydataset)\n",
        "print(myvar)"
      ],
      "execution_count": null,
      "outputs": [
        {
          "name": "stdout",
          "output_type": "stream",
          "text": [
            "    cars  passings\n",
            "0    BMW         3\n",
            "1  Volvo         7\n",
            "2   Ford         2\n"
          ]
        }
      ]
    },
    {
      "cell_type": "code",
      "metadata": {
        "colab": {
          "base_uri": "https://localhost:8080/"
        },
        "id": "tEARXYj2mRtl",
        "outputId": "a05fbc3a-a33f-49df-ae9c-e942bc7ef8e1"
      },
      "source": [
        "#importing pandas as pd(alias)\n",
        "import pandas as pd\n",
        "mydataset = {\n",
        "  'cars': [\"BMW\", \"Volvo\", \"Ford\"],\n",
        "  'passings': [3, 7, 2]}\n",
        "#Converting a dictionary into dataframe\n",
        "myvar = pd.DataFrame(mydataset)\n",
        "print(myvar)"
      ],
      "execution_count": null,
      "outputs": [
        {
          "name": "stdout",
          "output_type": "stream",
          "text": [
            "    cars  passings\n",
            "0    BMW         3\n",
            "1  Volvo         7\n",
            "2   Ford         2\n"
          ]
        }
      ]
    },
    {
      "cell_type": "code",
      "metadata": {
        "colab": {
          "base_uri": "https://localhost:8080/"
        },
        "id": "eb1OEkAKoOWm",
        "outputId": "b2d9ff4b-9302-4020-a350-bdc3bd788050"
      },
      "source": [
        "dict = {\"country\": [\"Brazil\", \"Russia\", \"India\", \"China\", \"South Africa\"],\n",
        "       \"capital\": [\"Brasilia\", \"Moscow\", \"New Delhi\", \"Beijing\", \"Pretoria\"],\n",
        "       \"area\": [8.516, 17.10, 3.286, 9.597, 1.221],\n",
        "       \"population\": [200.4, 143.5, 1252, 1357, 52.98] }\n",
        "import pandas as pd\n",
        "brics = pd.DataFrame(dict)\n",
        "print(brics)"
      ],
      "execution_count": null,
      "outputs": [
        {
          "name": "stdout",
          "output_type": "stream",
          "text": [
            "        country    capital    area  population\n",
            "0        Brazil   Brasilia   8.516      200.40\n",
            "1        Russia     Moscow  17.100      143.50\n",
            "2         India  New Delhi   3.286     1252.00\n",
            "3         China    Beijing   9.597     1357.00\n",
            "4  South Africa   Pretoria   1.221       52.98\n"
          ]
        }
      ]
    },
    {
      "cell_type": "code",
      "metadata": {
        "colab": {
          "base_uri": "https://localhost:8080/"
        },
        "id": "mVBeEZBmn7io",
        "outputId": "bff91c94-06ac-451b-8808-c8e096e5f597"
      },
      "source": [
        "dict = {\"country\": [\"Brazil\", \"Russia\", \"India\", \"China\", \"South Africa\"],\n",
        "       \"capital\": [\"Brasilia\", \"Moscow\", \"New Delhi\", \"Beijing\", \"Pretoria\"],\n",
        "       \"area\": [8.516, 17.10, 3.286, 9.597, 1.221],\n",
        "       \"population\": [200.4, 143.5, 1252, 1357, 52.98] }\n",
        "import pandas as pd\n",
        "brics = pd.DataFrame(dict)\n",
        "# Set the index for brics\n",
        "brics.index = [\"BR\", \"RU\", \"IN\", \"CH\", \"SA\"]\n",
        "print(brics)"
      ],
      "execution_count": null,
      "outputs": [
        {
          "name": "stdout",
          "output_type": "stream",
          "text": [
            "         country    capital    area  population\n",
            "BR        Brazil   Brasilia   8.516      200.40\n",
            "RU        Russia     Moscow  17.100      143.50\n",
            "IN         India  New Delhi   3.286     1252.00\n",
            "CH         China    Beijing   9.597     1357.00\n",
            "SA  South Africa   Pretoria   1.221       52.98\n"
          ]
        }
      ]
    },
    {
      "cell_type": "code",
      "metadata": {
        "colab": {
          "base_uri": "https://localhost:8080/"
        },
        "id": "CtrJOt1GrqNL",
        "outputId": "85573f6a-a3be-4a34-d651-5fdcd38619b9"
      },
      "source": [
        "dict = {\"country\": [\"United States\", \"Australia\", \"Japan\", \"India\", \"Russia\", \"Morocco\", \"Egypt\"],\n",
        "       \"cars_per_cap\": [809, 731, 588, 18, 200, 70, 45],\n",
        "       \"drives_right\": [True, False, False, False, False, True, True] }\n",
        "import pandas as pd\n",
        "brics = pd.DataFrame(dict)\n",
        "brics.index = [\"US\", \"AUS\", \"JAP\", \"IN\", \"RU\", \"MOR\", \"EG\"]\n",
        "# Print out cars_per_cap column as Pandas Series\n",
        "print(brics['cars_per_cap'])\n",
        "# Print out cars_per_cap column as Pandas DataFrame\n",
        "print(brics[['cars_per_cap']])\n",
        "# Print out DataFrame with country and drives_right columns\n",
        "print(brics[['cars_per_cap', 'country']])"
      ],
      "execution_count": null,
      "outputs": [
        {
          "name": "stdout",
          "output_type": "stream",
          "text": [
            "US     809\n",
            "AUS    731\n",
            "JAP    588\n",
            "IN      18\n",
            "RU     200\n",
            "MOR     70\n",
            "EG      45\n",
            "Name: cars_per_cap, dtype: int64\n",
            "     cars_per_cap\n",
            "US            809\n",
            "AUS           731\n",
            "JAP           588\n",
            "IN             18\n",
            "RU            200\n",
            "MOR            70\n",
            "EG             45\n",
            "     cars_per_cap        country\n",
            "US            809  United States\n",
            "AUS           731      Australia\n",
            "JAP           588          Japan\n",
            "IN             18          India\n",
            "RU            200         Russia\n",
            "MOR            70        Morocco\n",
            "EG             45          Egypt\n"
          ]
        }
      ]
    },
    {
      "cell_type": "code",
      "metadata": {
        "colab": {
          "base_uri": "https://localhost:8080/"
        },
        "id": "PhxgmMESsTI4",
        "outputId": "aa2fd8b3-9426-4d4e-ca5b-44f9f28c03ed"
      },
      "source": [
        "#Square brackets can also be used to access observations (rows) from a DataFrame.\n",
        "dict = {\"country\": [\"United States\", \"Australia\", \"Japan\", \"India\", \"Russia\", \"Morocco\", \"Egypt\"],\n",
        "       \"cars_per_cap\": [809, 731, 588, 18, 200, 70, 45],\n",
        "       \"drives_right\": [True, False, False, False, False, True, True] }\n",
        "import pandas as pd\n",
        "brics = pd.DataFrame(dict)\n",
        "#\"brics.index = [\"US\", \"AUS\", \"JAP\", \"IN\", \"RU\", \"MOR\", \"EG\"]\"\"\n",
        "# Print out first 4 observations\n",
        "print(brics[0:4])\n",
        "# Print out fifth and sixth observation\n",
        "print(brics[4:6])\n"
      ],
      "execution_count": null,
      "outputs": [
        {
          "name": "stdout",
          "output_type": "stream",
          "text": [
            "         country  cars_per_cap  drives_right\n",
            "0  United States           809          True\n",
            "1      Australia           731         False\n",
            "2          Japan           588         False\n",
            "3          India            18         False\n",
            "   country  cars_per_cap  drives_right\n",
            "4   Russia           200         False\n",
            "5  Morocco            70          True\n"
          ]
        }
      ]
    },
    {
      "cell_type": "code",
      "metadata": {
        "colab": {
          "base_uri": "https://localhost:8080/"
        },
        "id": "3EBRA8tUu8bM",
        "outputId": "82ae367d-5c7d-48e9-c23e-e42bc6d0b0f5"
      },
      "source": [
        "dict = {\"country\": [\"United States\", \"Australia\", \"Japan\", \"India\", \"Russia\", \"Morocco\", \"Egypt\"],\n",
        "       \"cars_per_cap\": [809, 731, 588, 18, 200, 70, 45],\n",
        "       \"drives_right\": [True, False, False, False, False, True, True] }\n",
        "import pandas as pd\n",
        "brics = pd.DataFrame(dict)\n",
        "brics.index = [\"US\", \"AUS\", \"JAP\", \"IN\", \"RU\", \"MOR\", \"EG\"]\n",
        "# Print out observation for Japan\n",
        "#index based\n",
        "print(brics.iloc[[2]])\n",
        "# Print out observations for Australia and Egypt\n",
        "#label based\n",
        "print(brics.loc[['AUS', 'EG']])"
      ],
      "execution_count": null,
      "outputs": [
        {
          "name": "stdout",
          "output_type": "stream",
          "text": [
            "    country  cars_per_cap  drives_right\n",
            "JAP   Japan           588         False\n",
            "       country  cars_per_cap  drives_right\n",
            "AUS  Australia           731         False\n",
            "EG       Egypt            45          True\n"
          ]
        }
      ]
    },
    {
      "cell_type": "markdown",
      "metadata": {
        "id": "rZp6-w1pvhnM"
      },
      "source": [
        "##What is Series?\n",
        "- A Pandas Series is like a column in a table.\n",
        "- It is a one-dimensional array holding data of any type.\n",
        "- Series(data, index, dtype, copy)"
      ]
    },
    {
      "cell_type": "code",
      "metadata": {
        "colab": {
          "base_uri": "https://localhost:8080/"
        },
        "id": "LH5DWpB_v2FP",
        "outputId": "696184b9-794a-4678-ca00-7ea2766364f0"
      },
      "source": [
        "import pandas as pd\n",
        "a = [1, 7, 2]\n",
        "myvar = pd.Series(a)\n",
        "print(myvar)"
      ],
      "execution_count": null,
      "outputs": [
        {
          "name": "stdout",
          "output_type": "stream",
          "text": [
            "0    1\n",
            "1    7\n",
            "2    2\n",
            "dtype: int64\n"
          ]
        }
      ]
    },
    {
      "cell_type": "code",
      "metadata": {
        "colab": {
          "base_uri": "https://localhost:8080/"
        },
        "id": "Q9uEMKDrAaC_",
        "outputId": "2420d3c7-51fa-450f-c404-5b422791144b"
      },
      "source": [
        "import pandas as pd\n",
        "s=pd.Series()\n",
        "print(s) #getting default values "
      ],
      "execution_count": null,
      "outputs": [
        {
          "name": "stdout",
          "output_type": "stream",
          "text": [
            "Series([], dtype: float64)\n"
          ]
        },
        {
          "name": "stderr",
          "output_type": "stream",
          "text": [
            "/usr/local/lib/python3.7/dist-packages/ipykernel_launcher.py:2: DeprecationWarning: The default dtype for empty Series will be 'object' instead of 'float64' in a future version. Specify a dtype explicitly to silence this warning.\n",
            "  \n"
          ]
        }
      ]
    },
    {
      "cell_type": "markdown",
      "metadata": {
        "id": "K6Ner_VNv_rQ"
      },
      "source": [
        "##Labels\n",
        "- If nothing else is specified, the values are labeled with their index number. First value has index 0, second value has index 1 etc.\n",
        "- This label can be used to access a specified value.\n"
      ]
    },
    {
      "cell_type": "code",
      "metadata": {
        "colab": {
          "base_uri": "https://localhost:8080/"
        },
        "id": "knpo4Vp6wPnm",
        "outputId": "8cad28cf-221b-4e2d-f55f-a0e1b66e6035"
      },
      "source": [
        "import pandas as pd\n",
        "a = [1, 7, 2]\n",
        "myvar = pd.Series(a)\n",
        "print(myvar)\n",
        "print(myvar[0])"
      ],
      "execution_count": null,
      "outputs": [
        {
          "name": "stdout",
          "output_type": "stream",
          "text": [
            "0    1\n",
            "1    7\n",
            "2    2\n",
            "dtype: int64\n",
            "1\n"
          ]
        }
      ]
    },
    {
      "cell_type": "markdown",
      "metadata": {
        "id": "G0TZJDftwj6I"
      },
      "source": [
        "###Create Labels\n",
        "- With the index argument, you can name your own labels.\n",
        "- When you have created labels, you can access an item by referring to the label."
      ]
    },
    {
      "cell_type": "code",
      "metadata": {
        "colab": {
          "base_uri": "https://localhost:8080/"
        },
        "id": "bUXqdA2VwXYn",
        "outputId": "72959664-a988-46a6-efcb-52fd241ac2f7"
      },
      "source": [
        "import pandas as pd\n",
        "a = [1, 7, 2]\n",
        "myvar = pd.Series(a, index = [\"x\", \"y\", \"z\"])\n",
        "print(myvar)"
      ],
      "execution_count": null,
      "outputs": [
        {
          "output_type": "stream",
          "name": "stdout",
          "text": [
            "x    1\n",
            "y    7\n",
            "z    2\n",
            "dtype: int64\n"
          ]
        }
      ]
    },
    {
      "cell_type": "code",
      "metadata": {
        "colab": {
          "base_uri": "https://localhost:8080/"
        },
        "id": "9Hy0urbaxOUs",
        "outputId": "86d912d3-1988-4d44-a73d-92b73ac5e437"
      },
      "source": [
        "import pandas as pd\n",
        "a = [1, 7, 2]\n",
        "myvar = pd.Series(a, index = [\"x\", \"y\", \"z\"])\n",
        "print(myvar[\"y\"])"
      ],
      "execution_count": null,
      "outputs": [
        {
          "output_type": "stream",
          "name": "stdout",
          "text": [
            "7\n"
          ]
        }
      ]
    },
    {
      "cell_type": "markdown",
      "metadata": {
        "id": "fQVeuKjYCeb0"
      },
      "source": [
        "###Using CSV Files\n",
        "- CSV stands for Comma-Separated Values and is a common way store formatted data.\n",
        "- We can use Pandas' read_csv function to pull the file directly into a DataFrame.\n",
        "- It looks like the read_csv function in Pandas read our file properly. However, we haven't saved any data to memory so we can work with it.We need to assign the DataFrame to a variable. \n",
        "\n"
      ]
    },
    {
      "cell_type": "code",
      "metadata": {
        "colab": {
          "base_uri": "https://localhost:8080/",
          "height": 205
        },
        "id": "7UaLX-0vp7DQ",
        "outputId": "36af9576-754d-4e00-8b28-fef6baa4ab6b"
      },
      "source": [
        "\n",
        "file=pd.read_csv('gapminder-FiveYearData.csv') #assigning dataframe to a variable.\n",
        "file.head() #returns 5 rows by default"
      ],
      "execution_count": null,
      "outputs": [
        {
          "output_type": "execute_result",
          "data": {
            "text/html": [
              "<div>\n",
              "<style scoped>\n",
              "    .dataframe tbody tr th:only-of-type {\n",
              "        vertical-align: middle;\n",
              "    }\n",
              "\n",
              "    .dataframe tbody tr th {\n",
              "        vertical-align: top;\n",
              "    }\n",
              "\n",
              "    .dataframe thead th {\n",
              "        text-align: right;\n",
              "    }\n",
              "</style>\n",
              "<table border=\"1\" class=\"dataframe\">\n",
              "  <thead>\n",
              "    <tr style=\"text-align: right;\">\n",
              "      <th></th>\n",
              "      <th>country</th>\n",
              "      <th>year</th>\n",
              "      <th>pop</th>\n",
              "      <th>continent</th>\n",
              "      <th>lifeExp</th>\n",
              "      <th>gdpPercap</th>\n",
              "    </tr>\n",
              "  </thead>\n",
              "  <tbody>\n",
              "    <tr>\n",
              "      <th>0</th>\n",
              "      <td>Afghanistan</td>\n",
              "      <td>1952</td>\n",
              "      <td>8425333.0</td>\n",
              "      <td>Asia</td>\n",
              "      <td>28.801</td>\n",
              "      <td>779.445314</td>\n",
              "    </tr>\n",
              "    <tr>\n",
              "      <th>1</th>\n",
              "      <td>Afghanistan</td>\n",
              "      <td>1957</td>\n",
              "      <td>9240934.0</td>\n",
              "      <td>Asia</td>\n",
              "      <td>30.332</td>\n",
              "      <td>820.853030</td>\n",
              "    </tr>\n",
              "    <tr>\n",
              "      <th>2</th>\n",
              "      <td>Afghanistan</td>\n",
              "      <td>1962</td>\n",
              "      <td>10267083.0</td>\n",
              "      <td>Asia</td>\n",
              "      <td>31.997</td>\n",
              "      <td>853.100710</td>\n",
              "    </tr>\n",
              "    <tr>\n",
              "      <th>3</th>\n",
              "      <td>Afghanistan</td>\n",
              "      <td>1967</td>\n",
              "      <td>11537966.0</td>\n",
              "      <td>Asia</td>\n",
              "      <td>34.020</td>\n",
              "      <td>836.197138</td>\n",
              "    </tr>\n",
              "    <tr>\n",
              "      <th>4</th>\n",
              "      <td>Afghanistan</td>\n",
              "      <td>1972</td>\n",
              "      <td>13079460.0</td>\n",
              "      <td>Asia</td>\n",
              "      <td>36.088</td>\n",
              "      <td>739.981106</td>\n",
              "    </tr>\n",
              "  </tbody>\n",
              "</table>\n",
              "</div>"
            ],
            "text/plain": [
              "       country  year         pop continent  lifeExp   gdpPercap\n",
              "0  Afghanistan  1952   8425333.0      Asia   28.801  779.445314\n",
              "1  Afghanistan  1957   9240934.0      Asia   30.332  820.853030\n",
              "2  Afghanistan  1962  10267083.0      Asia   31.997  853.100710\n",
              "3  Afghanistan  1967  11537966.0      Asia   34.020  836.197138\n",
              "4  Afghanistan  1972  13079460.0      Asia   36.088  739.981106"
            ]
          },
          "metadata": {},
          "execution_count": 2
        }
      ]
    },
    {
      "cell_type": "code",
      "metadata": {
        "colab": {
          "base_uri": "https://localhost:8080/",
          "height": 204
        },
        "id": "nZ7EyLg-CzkK",
        "outputId": "9f3d5388-a0d2-46a3-cd49-04ac09e0af87"
      },
      "source": [
        "file.tail() #returns 5 rows by default "
      ],
      "execution_count": null,
      "outputs": [
        {
          "data": {
            "text/html": [
              "<div>\n",
              "<style scoped>\n",
              "    .dataframe tbody tr th:only-of-type {\n",
              "        vertical-align: middle;\n",
              "    }\n",
              "\n",
              "    .dataframe tbody tr th {\n",
              "        vertical-align: top;\n",
              "    }\n",
              "\n",
              "    .dataframe thead th {\n",
              "        text-align: right;\n",
              "    }\n",
              "</style>\n",
              "<table border=\"1\" class=\"dataframe\">\n",
              "  <thead>\n",
              "    <tr style=\"text-align: right;\">\n",
              "      <th></th>\n",
              "      <th>country</th>\n",
              "      <th>year</th>\n",
              "      <th>pop</th>\n",
              "      <th>continent</th>\n",
              "      <th>lifeExp</th>\n",
              "      <th>gdpPercap</th>\n",
              "    </tr>\n",
              "  </thead>\n",
              "  <tbody>\n",
              "    <tr>\n",
              "      <th>1699</th>\n",
              "      <td>Zimbabwe</td>\n",
              "      <td>1987</td>\n",
              "      <td>9216418.0</td>\n",
              "      <td>Africa</td>\n",
              "      <td>62.351</td>\n",
              "      <td>706.157306</td>\n",
              "    </tr>\n",
              "    <tr>\n",
              "      <th>1700</th>\n",
              "      <td>Zimbabwe</td>\n",
              "      <td>1992</td>\n",
              "      <td>10704340.0</td>\n",
              "      <td>Africa</td>\n",
              "      <td>60.377</td>\n",
              "      <td>693.420786</td>\n",
              "    </tr>\n",
              "    <tr>\n",
              "      <th>1701</th>\n",
              "      <td>Zimbabwe</td>\n",
              "      <td>1997</td>\n",
              "      <td>11404948.0</td>\n",
              "      <td>Africa</td>\n",
              "      <td>46.809</td>\n",
              "      <td>792.449960</td>\n",
              "    </tr>\n",
              "    <tr>\n",
              "      <th>1702</th>\n",
              "      <td>Zimbabwe</td>\n",
              "      <td>2002</td>\n",
              "      <td>11926563.0</td>\n",
              "      <td>Africa</td>\n",
              "      <td>39.989</td>\n",
              "      <td>672.038623</td>\n",
              "    </tr>\n",
              "    <tr>\n",
              "      <th>1703</th>\n",
              "      <td>Zimbabwe</td>\n",
              "      <td>2007</td>\n",
              "      <td>12311143.0</td>\n",
              "      <td>Africa</td>\n",
              "      <td>43.487</td>\n",
              "      <td>469.709298</td>\n",
              "    </tr>\n",
              "  </tbody>\n",
              "</table>\n",
              "</div>"
            ],
            "text/plain": [
              "       country  year         pop continent  lifeExp   gdpPercap\n",
              "1699  Zimbabwe  1987   9216418.0    Africa   62.351  706.157306\n",
              "1700  Zimbabwe  1992  10704340.0    Africa   60.377  693.420786\n",
              "1701  Zimbabwe  1997  11404948.0    Africa   46.809  792.449960\n",
              "1702  Zimbabwe  2002  11926563.0    Africa   39.989  672.038623\n",
              "1703  Zimbabwe  2007  12311143.0    Africa   43.487  469.709298"
            ]
          },
          "execution_count": 10,
          "metadata": {},
          "output_type": "execute_result"
        }
      ]
    },
    {
      "cell_type": "code",
      "metadata": {
        "colab": {
          "base_uri": "https://localhost:8080/",
          "height": 142
        },
        "id": "SH_XYfxjDmxQ",
        "outputId": "f9bc5477-1862-451f-988c-40f29b734b65"
      },
      "source": [
        "file.head(3) #returns specified 3 rows"
      ],
      "execution_count": null,
      "outputs": [
        {
          "data": {
            "text/html": [
              "<div>\n",
              "<style scoped>\n",
              "    .dataframe tbody tr th:only-of-type {\n",
              "        vertical-align: middle;\n",
              "    }\n",
              "\n",
              "    .dataframe tbody tr th {\n",
              "        vertical-align: top;\n",
              "    }\n",
              "\n",
              "    .dataframe thead th {\n",
              "        text-align: right;\n",
              "    }\n",
              "</style>\n",
              "<table border=\"1\" class=\"dataframe\">\n",
              "  <thead>\n",
              "    <tr style=\"text-align: right;\">\n",
              "      <th></th>\n",
              "      <th>country</th>\n",
              "      <th>year</th>\n",
              "      <th>pop</th>\n",
              "      <th>continent</th>\n",
              "      <th>lifeExp</th>\n",
              "      <th>gdpPercap</th>\n",
              "    </tr>\n",
              "  </thead>\n",
              "  <tbody>\n",
              "    <tr>\n",
              "      <th>0</th>\n",
              "      <td>Afghanistan</td>\n",
              "      <td>1952</td>\n",
              "      <td>8425333.0</td>\n",
              "      <td>Asia</td>\n",
              "      <td>28.801</td>\n",
              "      <td>779.445314</td>\n",
              "    </tr>\n",
              "    <tr>\n",
              "      <th>1</th>\n",
              "      <td>Afghanistan</td>\n",
              "      <td>1957</td>\n",
              "      <td>9240934.0</td>\n",
              "      <td>Asia</td>\n",
              "      <td>30.332</td>\n",
              "      <td>820.853030</td>\n",
              "    </tr>\n",
              "    <tr>\n",
              "      <th>2</th>\n",
              "      <td>Afghanistan</td>\n",
              "      <td>1962</td>\n",
              "      <td>10267083.0</td>\n",
              "      <td>Asia</td>\n",
              "      <td>31.997</td>\n",
              "      <td>853.100710</td>\n",
              "    </tr>\n",
              "  </tbody>\n",
              "</table>\n",
              "</div>"
            ],
            "text/plain": [
              "       country  year         pop continent  lifeExp   gdpPercap\n",
              "0  Afghanistan  1952   8425333.0      Asia   28.801  779.445314\n",
              "1  Afghanistan  1957   9240934.0      Asia   30.332  820.853030\n",
              "2  Afghanistan  1962  10267083.0      Asia   31.997  853.100710"
            ]
          },
          "execution_count": 8,
          "metadata": {},
          "output_type": "execute_result"
        }
      ]
    },
    {
      "cell_type": "markdown",
      "metadata": {
        "id": "3AXyhRFsFFHA"
      },
      "source": [
        "Note:\n",
        "!pip install pandas/matplotlib- This command first verifies if the library is already present and then installs if required."
      ]
    },
    {
      "cell_type": "code",
      "metadata": {
        "colab": {
          "base_uri": "https://localhost:8080/"
        },
        "id": "h3jFSJ_TKv70",
        "outputId": "11a798ee-50fd-4e4d-8e48-c6df023f3e3e"
      },
      "source": [
        "#we can use the type function to see what kind of thing file is\n",
        "type(file) #As expected, it's a DataFrame "
      ],
      "execution_count": null,
      "outputs": [
        {
          "output_type": "execute_result",
          "data": {
            "text/plain": [
              "pandas.core.frame.DataFrame"
            ]
          },
          "metadata": {},
          "execution_count": 4
        }
      ]
    },
    {
      "cell_type": "code",
      "metadata": {
        "colab": {
          "base_uri": "https://localhost:8080/"
        },
        "id": "WsHSGnb9LdSl",
        "outputId": "8131009f-a931-4ef2-ceee-9e9634d39376"
      },
      "source": [
        "file.dtypes #dtypes is an attribute of dataframes\n",
        "#object type represents string or mixed numeric and non- numeric values"
      ],
      "execution_count": null,
      "outputs": [
        {
          "output_type": "execute_result",
          "data": {
            "text/plain": [
              "country       object\n",
              "year           int64\n",
              "pop          float64\n",
              "continent     object\n",
              "lifeExp      float64\n",
              "gdpPercap    float64\n",
              "dtype: object"
            ]
          },
          "metadata": {},
          "execution_count": 5
        }
      ]
    },
    {
      "cell_type": "code",
      "metadata": {
        "colab": {
          "base_uri": "https://localhost:8080/"
        },
        "id": "hiyNxfKZMn3A",
        "outputId": "ef2fa562-5f63-4ab2-8084-73c1d8bd48e2"
      },
      "source": [
        "file.columns # an index of all the column names in the DataFrame can be accessed with file.columns."
      ],
      "execution_count": null,
      "outputs": [
        {
          "output_type": "execute_result",
          "data": {
            "text/plain": [
              "Index(['country', 'year', 'pop', 'continent', 'lifeExp', 'gdpPercap'], dtype='object')"
            ]
          },
          "metadata": {},
          "execution_count": 4
        }
      ]
    },
    {
      "cell_type": "code",
      "metadata": {
        "colab": {
          "base_uri": "https://localhost:8080/"
        },
        "id": "DGV773tyNpMP",
        "outputId": "3394a936-aedb-4826-fee5-65add7573489"
      },
      "source": [
        "file.shape #(rows, columns)"
      ],
      "execution_count": null,
      "outputs": [
        {
          "output_type": "execute_result",
          "data": {
            "text/plain": [
              "(1704, 6)"
            ]
          },
          "metadata": {},
          "execution_count": 5
        }
      ]
    },
    {
      "cell_type": "markdown",
      "metadata": {
        "id": "MP8w8WemPY8J"
      },
      "source": [
        "###Calculaing Statistics from Data"
      ]
    },
    {
      "cell_type": "code",
      "metadata": {
        "colab": {
          "base_uri": "https://localhost:8080/"
        },
        "id": "J7nj5UvAO50d",
        "outputId": "c5cc5cc4-0847-4295-f1b5-6d3554c63217"
      },
      "source": [
        "#The pd.unique function tells us all of the unique values in the specified column.\n",
        "pd.unique(file['continent'])"
      ],
      "execution_count": null,
      "outputs": [
        {
          "output_type": "execute_result",
          "data": {
            "text/plain": [
              "array(['Asia', 'Europe', 'Africa', 'Americas', 'Oceania'], dtype=object)"
            ]
          },
          "metadata": {},
          "execution_count": 8
        }
      ]
    },
    {
      "cell_type": "code",
      "metadata": {
        "colab": {
          "base_uri": "https://localhost:8080/"
        },
        "id": "bxLA22AXQkix",
        "outputId": "b0866bd8-18fe-4d72-e239-4d97c30184c0"
      },
      "source": [
        "year=pd.unique(file['year'])\n",
        "country=pd.unique(file['country'])\n",
        "print(year)\n",
        "print(len(pd.unique(file['year'])))\n",
        "print(len(year))\n",
        "print(len(country))\n",
        "file['year'].nunique() \n",
        "#nunique() function counts and returns the number of the unique values in the specifed\n",
        "#columns in just one step without using list and len()"
      ],
      "execution_count": null,
      "outputs": [
        {
          "output_type": "stream",
          "name": "stdout",
          "text": [
            "[1952 1957 1962 1967 1972 1977 1982 1987 1992 1997 2002 2007]\n",
            "12\n",
            "12\n",
            "142\n"
          ]
        },
        {
          "output_type": "execute_result",
          "data": {
            "text/plain": [
              "12"
            ]
          },
          "metadata": {},
          "execution_count": 6
        }
      ]
    },
    {
      "cell_type": "markdown",
      "metadata": {
        "id": "q8T8LRJhS9nP"
      },
      "source": [
        "###Groups in Pandas"
      ]
    },
    {
      "cell_type": "code",
      "metadata": {
        "colab": {
          "base_uri": "https://localhost:8080/"
        },
        "id": "RuZNM_mPSyDc",
        "outputId": "70726554-2253-4da3-bf3d-2aff37e6607f"
      },
      "source": [
        "#We can calculate basic statistics for all records in a single column using the syntax below\n",
        "file['lifeExp'].describe()"
      ],
      "execution_count": null,
      "outputs": [
        {
          "output_type": "execute_result",
          "data": {
            "text/plain": [
              "count    1704.000000\n",
              "mean       59.474439\n",
              "std        12.917107\n",
              "min        23.599000\n",
              "25%        48.198000\n",
              "50%        60.712500\n",
              "75%        70.845500\n",
              "max        82.603000\n",
              "Name: lifeExp, dtype: float64"
            ]
          },
          "metadata": {},
          "execution_count": 10
        }
      ]
    },
    {
      "cell_type": "code",
      "metadata": {
        "colab": {
          "base_uri": "https://localhost:8080/"
        },
        "id": "7KQDrohNV0eb",
        "outputId": "d6ecf329-88ff-4b31-aaf1-cf5756ac473e"
      },
      "source": [
        "file['continent'].describe()"
      ],
      "execution_count": null,
      "outputs": [
        {
          "output_type": "execute_result",
          "data": {
            "text/plain": [
              "count       1704\n",
              "unique         5\n",
              "top       Africa\n",
              "freq         624\n",
              "Name: continent, dtype: object"
            ]
          },
          "metadata": {},
          "execution_count": 11
        }
      ]
    },
    {
      "cell_type": "code",
      "metadata": {
        "colab": {
          "base_uri": "https://localhost:8080/"
        },
        "id": "C0GWO3pwUUUl",
        "outputId": "ab5f3624-d534-4438-99af-29b23ca82e23"
      },
      "source": [
        "#We can also extract one specific metric if we wish\n",
        "file['lifeExp'].count()\n",
        "file['lifeExp'].max()\n",
        "#only the last command shows output below - you can try the others above in new cells\n",
        "file['lifeExp'].min() \n",
        "\n"
      ],
      "execution_count": null,
      "outputs": [
        {
          "output_type": "execute_result",
          "data": {
            "text/plain": [
              "23.599"
            ]
          },
          "metadata": {},
          "execution_count": 12
        }
      ]
    },
    {
      "cell_type": "code",
      "metadata": {
        "colab": {
          "base_uri": "https://localhost:8080/"
        },
        "id": "VHQA7HgeVF2f",
        "outputId": "1925ea2b-d35e-4ed5-b15e-956d2fc6b4de"
      },
      "source": [
        "file['lifeExp'].count()"
      ],
      "execution_count": null,
      "outputs": [
        {
          "output_type": "execute_result",
          "data": {
            "text/plain": [
              "1704"
            ]
          },
          "metadata": {},
          "execution_count": 13
        }
      ]
    },
    {
      "cell_type": "markdown",
      "metadata": {
        "id": "E9zVhxkxXpZs"
      },
      "source": [
        "###Pandas groupby() method\n",
        "The groupby command is powerful in that it allows us to quickly generate summary stats.\n",
        "\n",
        "\n"
      ]
    },
    {
      "cell_type": "code",
      "metadata": {
        "colab": {
          "base_uri": "https://localhost:8080/",
          "height": 452
        },
        "id": "44pCMaKpWjHs",
        "outputId": "92c14ad2-0501-4379-ed9c-86d03f836425"
      },
      "source": [
        "group=file.groupby('year') \n",
        "group.mean()"
      ],
      "execution_count": null,
      "outputs": [
        {
          "output_type": "execute_result",
          "data": {
            "text/html": [
              "<div>\n",
              "<style scoped>\n",
              "    .dataframe tbody tr th:only-of-type {\n",
              "        vertical-align: middle;\n",
              "    }\n",
              "\n",
              "    .dataframe tbody tr th {\n",
              "        vertical-align: top;\n",
              "    }\n",
              "\n",
              "    .dataframe thead th {\n",
              "        text-align: right;\n",
              "    }\n",
              "</style>\n",
              "<table border=\"1\" class=\"dataframe\">\n",
              "  <thead>\n",
              "    <tr style=\"text-align: right;\">\n",
              "      <th></th>\n",
              "      <th>pop</th>\n",
              "      <th>lifeExp</th>\n",
              "      <th>gdpPercap</th>\n",
              "    </tr>\n",
              "    <tr>\n",
              "      <th>year</th>\n",
              "      <th></th>\n",
              "      <th></th>\n",
              "      <th></th>\n",
              "    </tr>\n",
              "  </thead>\n",
              "  <tbody>\n",
              "    <tr>\n",
              "      <th>1952</th>\n",
              "      <td>1.695040e+07</td>\n",
              "      <td>49.057620</td>\n",
              "      <td>3725.276046</td>\n",
              "    </tr>\n",
              "    <tr>\n",
              "      <th>1957</th>\n",
              "      <td>1.876341e+07</td>\n",
              "      <td>51.507401</td>\n",
              "      <td>4299.408345</td>\n",
              "    </tr>\n",
              "    <tr>\n",
              "      <th>1962</th>\n",
              "      <td>2.042101e+07</td>\n",
              "      <td>53.609249</td>\n",
              "      <td>4725.812342</td>\n",
              "    </tr>\n",
              "    <tr>\n",
              "      <th>1967</th>\n",
              "      <td>2.265830e+07</td>\n",
              "      <td>55.678290</td>\n",
              "      <td>5483.653047</td>\n",
              "    </tr>\n",
              "    <tr>\n",
              "      <th>1972</th>\n",
              "      <td>2.518998e+07</td>\n",
              "      <td>57.647386</td>\n",
              "      <td>6770.082815</td>\n",
              "    </tr>\n",
              "    <tr>\n",
              "      <th>1977</th>\n",
              "      <td>2.767638e+07</td>\n",
              "      <td>59.570157</td>\n",
              "      <td>7313.166421</td>\n",
              "    </tr>\n",
              "    <tr>\n",
              "      <th>1982</th>\n",
              "      <td>3.020730e+07</td>\n",
              "      <td>61.533197</td>\n",
              "      <td>7518.901673</td>\n",
              "    </tr>\n",
              "    <tr>\n",
              "      <th>1987</th>\n",
              "      <td>3.303857e+07</td>\n",
              "      <td>63.212613</td>\n",
              "      <td>7900.920218</td>\n",
              "    </tr>\n",
              "    <tr>\n",
              "      <th>1992</th>\n",
              "      <td>3.599092e+07</td>\n",
              "      <td>64.160338</td>\n",
              "      <td>8158.608521</td>\n",
              "    </tr>\n",
              "    <tr>\n",
              "      <th>1997</th>\n",
              "      <td>3.883947e+07</td>\n",
              "      <td>65.014676</td>\n",
              "      <td>9090.175363</td>\n",
              "    </tr>\n",
              "    <tr>\n",
              "      <th>2002</th>\n",
              "      <td>4.145759e+07</td>\n",
              "      <td>65.694923</td>\n",
              "      <td>9917.848365</td>\n",
              "    </tr>\n",
              "    <tr>\n",
              "      <th>2007</th>\n",
              "      <td>4.402122e+07</td>\n",
              "      <td>67.007423</td>\n",
              "      <td>11680.071820</td>\n",
              "    </tr>\n",
              "  </tbody>\n",
              "</table>\n",
              "</div>"
            ],
            "text/plain": [
              "               pop    lifeExp     gdpPercap\n",
              "year                                       \n",
              "1952  1.695040e+07  49.057620   3725.276046\n",
              "1957  1.876341e+07  51.507401   4299.408345\n",
              "1962  2.042101e+07  53.609249   4725.812342\n",
              "1967  2.265830e+07  55.678290   5483.653047\n",
              "1972  2.518998e+07  57.647386   6770.082815\n",
              "1977  2.767638e+07  59.570157   7313.166421\n",
              "1982  3.020730e+07  61.533197   7518.901673\n",
              "1987  3.303857e+07  63.212613   7900.920218\n",
              "1992  3.599092e+07  64.160338   8158.608521\n",
              "1997  3.883947e+07  65.014676   9090.175363\n",
              "2002  4.145759e+07  65.694923   9917.848365\n",
              "2007  4.402122e+07  67.007423  11680.071820"
            ]
          },
          "metadata": {},
          "execution_count": 14
        }
      ]
    },
    {
      "cell_type": "code",
      "metadata": {
        "colab": {
          "base_uri": "https://localhost:8080/"
        },
        "id": "otTxmmxNXggU",
        "outputId": "601f4960-14dd-40fd-a833-7596c9cd2746"
      },
      "source": [
        "group['country'].count()"
      ],
      "execution_count": null,
      "outputs": [
        {
          "output_type": "execute_result",
          "data": {
            "text/plain": [
              "year\n",
              "1952    142\n",
              "1957    142\n",
              "1962    142\n",
              "1967    142\n",
              "1972    142\n",
              "1977    142\n",
              "1982    142\n",
              "1987    142\n",
              "1992    142\n",
              "1997    142\n",
              "2002    142\n",
              "2007    142\n",
              "Name: country, dtype: int64"
            ]
          },
          "metadata": {},
          "execution_count": 15
        }
      ]
    },
    {
      "cell_type": "code",
      "metadata": {
        "colab": {
          "base_uri": "https://localhost:8080/",
          "height": 450
        },
        "id": "kYLgoSB1BFN-",
        "outputId": "a2c9ca83-81e2-4e69-8d6e-a455b2e906f8"
      },
      "source": [
        "group2=file.groupby(['country','year'])\n",
        "group2.mean()"
      ],
      "execution_count": null,
      "outputs": [
        {
          "output_type": "execute_result",
          "data": {
            "text/html": [
              "<div>\n",
              "<style scoped>\n",
              "    .dataframe tbody tr th:only-of-type {\n",
              "        vertical-align: middle;\n",
              "    }\n",
              "\n",
              "    .dataframe tbody tr th {\n",
              "        vertical-align: top;\n",
              "    }\n",
              "\n",
              "    .dataframe thead th {\n",
              "        text-align: right;\n",
              "    }\n",
              "</style>\n",
              "<table border=\"1\" class=\"dataframe\">\n",
              "  <thead>\n",
              "    <tr style=\"text-align: right;\">\n",
              "      <th></th>\n",
              "      <th></th>\n",
              "      <th>pop</th>\n",
              "      <th>lifeExp</th>\n",
              "      <th>gdpPercap</th>\n",
              "    </tr>\n",
              "    <tr>\n",
              "      <th>country</th>\n",
              "      <th>year</th>\n",
              "      <th></th>\n",
              "      <th></th>\n",
              "      <th></th>\n",
              "    </tr>\n",
              "  </thead>\n",
              "  <tbody>\n",
              "    <tr>\n",
              "      <th rowspan=\"5\" valign=\"top\">Afghanistan</th>\n",
              "      <th>1952</th>\n",
              "      <td>8425333.0</td>\n",
              "      <td>28.801</td>\n",
              "      <td>779.445314</td>\n",
              "    </tr>\n",
              "    <tr>\n",
              "      <th>1957</th>\n",
              "      <td>9240934.0</td>\n",
              "      <td>30.332</td>\n",
              "      <td>820.853030</td>\n",
              "    </tr>\n",
              "    <tr>\n",
              "      <th>1962</th>\n",
              "      <td>10267083.0</td>\n",
              "      <td>31.997</td>\n",
              "      <td>853.100710</td>\n",
              "    </tr>\n",
              "    <tr>\n",
              "      <th>1967</th>\n",
              "      <td>11537966.0</td>\n",
              "      <td>34.020</td>\n",
              "      <td>836.197138</td>\n",
              "    </tr>\n",
              "    <tr>\n",
              "      <th>1972</th>\n",
              "      <td>13079460.0</td>\n",
              "      <td>36.088</td>\n",
              "      <td>739.981106</td>\n",
              "    </tr>\n",
              "    <tr>\n",
              "      <th>...</th>\n",
              "      <th>...</th>\n",
              "      <td>...</td>\n",
              "      <td>...</td>\n",
              "      <td>...</td>\n",
              "    </tr>\n",
              "    <tr>\n",
              "      <th rowspan=\"5\" valign=\"top\">Zimbabwe</th>\n",
              "      <th>1987</th>\n",
              "      <td>9216418.0</td>\n",
              "      <td>62.351</td>\n",
              "      <td>706.157306</td>\n",
              "    </tr>\n",
              "    <tr>\n",
              "      <th>1992</th>\n",
              "      <td>10704340.0</td>\n",
              "      <td>60.377</td>\n",
              "      <td>693.420786</td>\n",
              "    </tr>\n",
              "    <tr>\n",
              "      <th>1997</th>\n",
              "      <td>11404948.0</td>\n",
              "      <td>46.809</td>\n",
              "      <td>792.449960</td>\n",
              "    </tr>\n",
              "    <tr>\n",
              "      <th>2002</th>\n",
              "      <td>11926563.0</td>\n",
              "      <td>39.989</td>\n",
              "      <td>672.038623</td>\n",
              "    </tr>\n",
              "    <tr>\n",
              "      <th>2007</th>\n",
              "      <td>12311143.0</td>\n",
              "      <td>43.487</td>\n",
              "      <td>469.709298</td>\n",
              "    </tr>\n",
              "  </tbody>\n",
              "</table>\n",
              "<p>1704 rows × 3 columns</p>\n",
              "</div>"
            ],
            "text/plain": [
              "                         pop  lifeExp   gdpPercap\n",
              "country     year                                 \n",
              "Afghanistan 1952   8425333.0   28.801  779.445314\n",
              "            1957   9240934.0   30.332  820.853030\n",
              "            1962  10267083.0   31.997  853.100710\n",
              "            1967  11537966.0   34.020  836.197138\n",
              "            1972  13079460.0   36.088  739.981106\n",
              "...                      ...      ...         ...\n",
              "Zimbabwe    1987   9216418.0   62.351  706.157306\n",
              "            1992  10704340.0   60.377  693.420786\n",
              "            1997  11404948.0   46.809  792.449960\n",
              "            2002  11926563.0   39.989  672.038623\n",
              "            2007  12311143.0   43.487  469.709298\n",
              "\n",
              "[1704 rows x 3 columns]"
            ]
          },
          "metadata": {},
          "execution_count": 16
        }
      ]
    },
    {
      "cell_type": "code",
      "metadata": {
        "colab": {
          "base_uri": "https://localhost:8080/",
          "height": 450
        },
        "id": "VCestKRhB1Ut",
        "outputId": "48672382-a60b-47c6-d322-911b4c2cfebe"
      },
      "source": [
        "group2['lifeExp'].describe()"
      ],
      "execution_count": null,
      "outputs": [
        {
          "output_type": "execute_result",
          "data": {
            "text/html": [
              "<div>\n",
              "<style scoped>\n",
              "    .dataframe tbody tr th:only-of-type {\n",
              "        vertical-align: middle;\n",
              "    }\n",
              "\n",
              "    .dataframe tbody tr th {\n",
              "        vertical-align: top;\n",
              "    }\n",
              "\n",
              "    .dataframe thead th {\n",
              "        text-align: right;\n",
              "    }\n",
              "</style>\n",
              "<table border=\"1\" class=\"dataframe\">\n",
              "  <thead>\n",
              "    <tr style=\"text-align: right;\">\n",
              "      <th></th>\n",
              "      <th></th>\n",
              "      <th>count</th>\n",
              "      <th>mean</th>\n",
              "      <th>std</th>\n",
              "      <th>min</th>\n",
              "      <th>25%</th>\n",
              "      <th>50%</th>\n",
              "      <th>75%</th>\n",
              "      <th>max</th>\n",
              "    </tr>\n",
              "    <tr>\n",
              "      <th>country</th>\n",
              "      <th>year</th>\n",
              "      <th></th>\n",
              "      <th></th>\n",
              "      <th></th>\n",
              "      <th></th>\n",
              "      <th></th>\n",
              "      <th></th>\n",
              "      <th></th>\n",
              "      <th></th>\n",
              "    </tr>\n",
              "  </thead>\n",
              "  <tbody>\n",
              "    <tr>\n",
              "      <th rowspan=\"5\" valign=\"top\">Afghanistan</th>\n",
              "      <th>1952</th>\n",
              "      <td>1.0</td>\n",
              "      <td>28.801</td>\n",
              "      <td>NaN</td>\n",
              "      <td>28.801</td>\n",
              "      <td>28.801</td>\n",
              "      <td>28.801</td>\n",
              "      <td>28.801</td>\n",
              "      <td>28.801</td>\n",
              "    </tr>\n",
              "    <tr>\n",
              "      <th>1957</th>\n",
              "      <td>1.0</td>\n",
              "      <td>30.332</td>\n",
              "      <td>NaN</td>\n",
              "      <td>30.332</td>\n",
              "      <td>30.332</td>\n",
              "      <td>30.332</td>\n",
              "      <td>30.332</td>\n",
              "      <td>30.332</td>\n",
              "    </tr>\n",
              "    <tr>\n",
              "      <th>1962</th>\n",
              "      <td>1.0</td>\n",
              "      <td>31.997</td>\n",
              "      <td>NaN</td>\n",
              "      <td>31.997</td>\n",
              "      <td>31.997</td>\n",
              "      <td>31.997</td>\n",
              "      <td>31.997</td>\n",
              "      <td>31.997</td>\n",
              "    </tr>\n",
              "    <tr>\n",
              "      <th>1967</th>\n",
              "      <td>1.0</td>\n",
              "      <td>34.020</td>\n",
              "      <td>NaN</td>\n",
              "      <td>34.020</td>\n",
              "      <td>34.020</td>\n",
              "      <td>34.020</td>\n",
              "      <td>34.020</td>\n",
              "      <td>34.020</td>\n",
              "    </tr>\n",
              "    <tr>\n",
              "      <th>1972</th>\n",
              "      <td>1.0</td>\n",
              "      <td>36.088</td>\n",
              "      <td>NaN</td>\n",
              "      <td>36.088</td>\n",
              "      <td>36.088</td>\n",
              "      <td>36.088</td>\n",
              "      <td>36.088</td>\n",
              "      <td>36.088</td>\n",
              "    </tr>\n",
              "    <tr>\n",
              "      <th>...</th>\n",
              "      <th>...</th>\n",
              "      <td>...</td>\n",
              "      <td>...</td>\n",
              "      <td>...</td>\n",
              "      <td>...</td>\n",
              "      <td>...</td>\n",
              "      <td>...</td>\n",
              "      <td>...</td>\n",
              "      <td>...</td>\n",
              "    </tr>\n",
              "    <tr>\n",
              "      <th rowspan=\"5\" valign=\"top\">Zimbabwe</th>\n",
              "      <th>1987</th>\n",
              "      <td>1.0</td>\n",
              "      <td>62.351</td>\n",
              "      <td>NaN</td>\n",
              "      <td>62.351</td>\n",
              "      <td>62.351</td>\n",
              "      <td>62.351</td>\n",
              "      <td>62.351</td>\n",
              "      <td>62.351</td>\n",
              "    </tr>\n",
              "    <tr>\n",
              "      <th>1992</th>\n",
              "      <td>1.0</td>\n",
              "      <td>60.377</td>\n",
              "      <td>NaN</td>\n",
              "      <td>60.377</td>\n",
              "      <td>60.377</td>\n",
              "      <td>60.377</td>\n",
              "      <td>60.377</td>\n",
              "      <td>60.377</td>\n",
              "    </tr>\n",
              "    <tr>\n",
              "      <th>1997</th>\n",
              "      <td>1.0</td>\n",
              "      <td>46.809</td>\n",
              "      <td>NaN</td>\n",
              "      <td>46.809</td>\n",
              "      <td>46.809</td>\n",
              "      <td>46.809</td>\n",
              "      <td>46.809</td>\n",
              "      <td>46.809</td>\n",
              "    </tr>\n",
              "    <tr>\n",
              "      <th>2002</th>\n",
              "      <td>1.0</td>\n",
              "      <td>39.989</td>\n",
              "      <td>NaN</td>\n",
              "      <td>39.989</td>\n",
              "      <td>39.989</td>\n",
              "      <td>39.989</td>\n",
              "      <td>39.989</td>\n",
              "      <td>39.989</td>\n",
              "    </tr>\n",
              "    <tr>\n",
              "      <th>2007</th>\n",
              "      <td>1.0</td>\n",
              "      <td>43.487</td>\n",
              "      <td>NaN</td>\n",
              "      <td>43.487</td>\n",
              "      <td>43.487</td>\n",
              "      <td>43.487</td>\n",
              "      <td>43.487</td>\n",
              "      <td>43.487</td>\n",
              "    </tr>\n",
              "  </tbody>\n",
              "</table>\n",
              "<p>1704 rows × 8 columns</p>\n",
              "</div>"
            ],
            "text/plain": [
              "                  count    mean  std     min     25%     50%     75%     max\n",
              "country     year                                                            \n",
              "Afghanistan 1952    1.0  28.801  NaN  28.801  28.801  28.801  28.801  28.801\n",
              "            1957    1.0  30.332  NaN  30.332  30.332  30.332  30.332  30.332\n",
              "            1962    1.0  31.997  NaN  31.997  31.997  31.997  31.997  31.997\n",
              "            1967    1.0  34.020  NaN  34.020  34.020  34.020  34.020  34.020\n",
              "            1972    1.0  36.088  NaN  36.088  36.088  36.088  36.088  36.088\n",
              "...                 ...     ...  ...     ...     ...     ...     ...     ...\n",
              "Zimbabwe    1987    1.0  62.351  NaN  62.351  62.351  62.351  62.351  62.351\n",
              "            1992    1.0  60.377  NaN  60.377  60.377  60.377  60.377  60.377\n",
              "            1997    1.0  46.809  NaN  46.809  46.809  46.809  46.809  46.809\n",
              "            2002    1.0  39.989  NaN  39.989  39.989  39.989  39.989  39.989\n",
              "            2007    1.0  43.487  NaN  43.487  43.487  43.487  43.487  43.487\n",
              "\n",
              "[1704 rows x 8 columns]"
            ]
          },
          "metadata": {},
          "execution_count": 17
        }
      ]
    },
    {
      "cell_type": "code",
      "metadata": {
        "colab": {
          "base_uri": "https://localhost:8080/"
        },
        "id": "4Q7ySVP6COOL",
        "outputId": "1a7e2a7b-3680-4172-c299-8cacb5008287"
      },
      "source": [
        "counts=file.groupby('continent')['country'].count()\n",
        "counts"
      ],
      "execution_count": null,
      "outputs": [
        {
          "output_type": "execute_result",
          "data": {
            "text/plain": [
              "continent\n",
              "Africa      624\n",
              "Americas    300\n",
              "Asia        396\n",
              "Europe      360\n",
              "Oceania      24\n",
              "Name: country, dtype: int64"
            ]
          },
          "metadata": {},
          "execution_count": 3
        }
      ]
    },
    {
      "cell_type": "code",
      "metadata": {
        "colab": {
          "base_uri": "https://localhost:8080/"
        },
        "id": "Bk7c-IjrCtkS",
        "outputId": "9baac9da-9045-46fa-b0d2-8e0ba9bc8fec"
      },
      "source": [
        "file.groupby('country')['year'].count()['Algeria']"
      ],
      "execution_count": null,
      "outputs": [
        {
          "output_type": "execute_result",
          "data": {
            "text/plain": [
              "12"
            ]
          },
          "metadata": {},
          "execution_count": 19
        }
      ]
    },
    {
      "cell_type": "code",
      "metadata": {
        "colab": {
          "base_uri": "https://localhost:8080/"
        },
        "id": "_AOapJHhDV4G",
        "outputId": "712b8950-2ba8-4120-a5fa-02bdf99e6f19"
      },
      "source": [
        "file['pop']*2"
      ],
      "execution_count": null,
      "outputs": [
        {
          "output_type": "execute_result",
          "data": {
            "text/plain": [
              "0       16850666.0\n",
              "1       18481868.0\n",
              "2       20534166.0\n",
              "3       23075932.0\n",
              "4       26158920.0\n",
              "           ...    \n",
              "1699    18432836.0\n",
              "1700    21408680.0\n",
              "1701    22809896.0\n",
              "1702    23853126.0\n",
              "1703    24622286.0\n",
              "Name: pop, Length: 1704, dtype: float64"
            ]
          },
          "metadata": {},
          "execution_count": 20
        }
      ]
    },
    {
      "cell_type": "markdown",
      "metadata": {
        "id": "L9BvRsGDEIJZ"
      },
      "source": [
        "###Quick & Easy Plotting Data Using Pandas"
      ]
    },
    {
      "cell_type": "code",
      "metadata": {
        "colab": {
          "base_uri": "https://localhost:8080/",
          "height": 333
        },
        "id": "5MPGpm3kEPT5",
        "outputId": "84fcfbe8-347c-4711-cbfb-d94841b3802a"
      },
      "source": [
        "# To make sure figures appear inside the Notebook\n",
        "%matplotlib inline\n",
        "#bar chart\n",
        "counts.plot(kind='bar')\n"
      ],
      "execution_count": null,
      "outputs": [
        {
          "output_type": "execute_result",
          "data": {
            "text/plain": [
              "<matplotlib.axes._subplots.AxesSubplot at 0x7f0fd0489f50>"
            ]
          },
          "metadata": {},
          "execution_count": 8
        },
        {
          "output_type": "display_data",
          "data": {
            "image/png": "[encoded data removed]",
            "text/plain": [
              "<Figure size 432x288 with 1 Axes>"
            ]
          },
          "metadata": {
            "needs_background": "light"
          }
        }
      ]
    },
    {
      "cell_type": "code",
      "metadata": {
        "colab": {
          "base_uri": "https://localhost:8080/",
          "height": 282
        },
        "id": "4oCPlXYsQCi4",
        "outputId": "900284af-4448-47e3-be2f-6c3749423b48"
      },
      "source": [
        "counts.plot(kind='barh')"
      ],
      "execution_count": null,
      "outputs": [
        {
          "output_type": "execute_result",
          "data": {
            "text/plain": [
              "<matplotlib.axes._subplots.AxesSubplot at 0x7f0fcff3a090>"
            ]
          },
          "metadata": {},
          "execution_count": 10
        },
        {
          "output_type": "display_data",
          "data": {
            "image/png": "[encoded data removed]",
            "text/plain": [
              "<Figure size 432x288 with 1 Axes>"
            ]
          },
          "metadata": {
            "needs_background": "light"
          }
        }
      ]
    },
    {
      "cell_type": "code",
      "metadata": {
        "colab": {
          "base_uri": "https://localhost:8080/",
          "height": 296
        },
        "id": "7eUwkqb3QyLf",
        "outputId": "811193cd-75ae-4ecb-fe09-1dc8a93f5b0d"
      },
      "source": [
        "counts.plot(kind='line')"
      ],
      "execution_count": null,
      "outputs": [
        {
          "output_type": "execute_result",
          "data": {
            "text/plain": [
              "<matplotlib.axes._subplots.AxesSubplot at 0x7f0fcfd7bf50>"
            ]
          },
          "metadata": {},
          "execution_count": 12
        },
        {
          "output_type": "display_data",
          "data": {
            "image/png": "[encoded data removed]",
            "text/plain": [
              "<Figure size 432x288 with 1 Axes>"
            ]
          },
          "metadata": {
            "needs_background": "light"
          }
        }
      ]
    },
    {
      "cell_type": "code",
      "metadata": {
        "colab": {
          "base_uri": "https://localhost:8080/",
          "height": 282
        },
        "id": "92_5Z9bkQ8Pz",
        "outputId": "1735a6c9-ab3d-46c6-c7cc-af099e6382bc"
      },
      "source": [
        "counts.plot(kind='hist')"
      ],
      "execution_count": null,
      "outputs": [
        {
          "output_type": "execute_result",
          "data": {
            "text/plain": [
              "<matplotlib.axes._subplots.AxesSubplot at 0x7f0fcfd7be50>"
            ]
          },
          "metadata": {},
          "execution_count": 13
        },
        {
          "output_type": "display_data",
          "data": {
            "image/png": "[encoded data removed]",
            "text/plain": [
              "<Figure size 432x288 with 1 Axes>"
            ]
          },
          "metadata": {
            "needs_background": "light"
          }
        }
      ]
    },
    {
      "cell_type": "code",
      "metadata": {
        "id": "XgfZcFkeRVmV",
        "colab": {
          "base_uri": "https://localhost:8080/",
          "height": 283
        },
        "outputId": "27c8c450-3e1f-4cbc-f19e-26088dd86f66"
      },
      "source": [
        "counts.plot(kind='box')"
      ],
      "execution_count": null,
      "outputs": [
        {
          "output_type": "execute_result",
          "data": {
            "text/plain": [
              "<matplotlib.axes._subplots.AxesSubplot at 0x7f0146cdc610>"
            ]
          },
          "metadata": {},
          "execution_count": 4
        },
        {
          "output_type": "display_data",
          "data": {
            "image/png": "[encoded data removed]",
            "text/plain": [
              "<Figure size 432x288 with 1 Axes>"
            ]
          },
          "metadata": {
            "needs_background": "light"
          }
        }
      ]
    },
    {
      "cell_type": "code",
      "metadata": {
        "colab": {
          "base_uri": "https://localhost:8080/",
          "height": 283
        },
        "id": "ODtZybXORsMQ",
        "outputId": "d781ea55-219e-4066-8f8a-c74ff4cc9a79"
      },
      "source": [
        "counts.plot(kind='density')"
      ],
      "execution_count": null,
      "outputs": [
        {
          "output_type": "execute_result",
          "data": {
            "text/plain": [
              "<matplotlib.axes._subplots.AxesSubplot at 0x7f0fcff1d6d0>"
            ]
          },
          "metadata": {},
          "execution_count": 16
        },
        {
          "output_type": "display_data",
          "data": {
            "image/png": "[encoded data removed]",
            "text/plain": [
              "<Figure size 432x288 with 1 Axes>"
            ]
          },
          "metadata": {
            "needs_background": "light"
          }
        }
      ]
    },
    {
      "cell_type": "code",
      "metadata": {
        "id": "4O4fNQhzSGGb",
        "colab": {
          "base_uri": "https://localhost:8080/",
          "height": 283
        },
        "outputId": "8a698ffc-f770-4a84-bdcd-85e59f4a433f"
      },
      "source": [
        "counts.plot(kind='kde')"
      ],
      "execution_count": null,
      "outputs": [
        {
          "output_type": "execute_result",
          "data": {
            "text/plain": [
              "<matplotlib.axes._subplots.AxesSubplot at 0x7f0146d081d0>"
            ]
          },
          "metadata": {},
          "execution_count": 5
        },
        {
          "output_type": "display_data",
          "data": {
            "image/png": "[encoded data removed]",
            "text/plain": [
              "<Figure size 432x288 with 1 Axes>"
            ]
          },
          "metadata": {
            "needs_background": "light"
          }
        }
      ]
    },
    {
      "cell_type": "code",
      "metadata": {
        "id": "a8MwKbCMi6tD",
        "colab": {
          "base_uri": "https://localhost:8080/",
          "height": 283
        },
        "outputId": "78c5c858-ed52-43ca-e7b5-8f10e0d6937b"
      },
      "source": [
        "counts.plot(kind='kde')"
      ],
      "execution_count": null,
      "outputs": [
        {
          "output_type": "execute_result",
          "data": {
            "text/plain": [
              "<matplotlib.axes._subplots.AxesSubplot at 0x7f0136d2fb90>"
            ]
          },
          "metadata": {},
          "execution_count": 6
        },
        {
          "output_type": "display_data",
          "data": {
            "image/png": "[encoded data removed]",
            "text/plain": [
              "<Figure size 432x288 with 1 Axes>"
            ]
          },
          "metadata": {
            "needs_background": "light"
          }
        }
      ]
    },
    {
      "cell_type": "code",
      "metadata": {
        "colab": {
          "base_uri": "https://localhost:8080/",
          "height": 266
        },
        "id": "-xFNdeDVjWNC",
        "outputId": "4a9673a5-af15-426f-d4e6-0135afebf69e"
      },
      "source": [
        "counts.plot(kind='pie')"
      ],
      "execution_count": null,
      "outputs": [
        {
          "output_type": "execute_result",
          "data": {
            "text/plain": [
              "<matplotlib.axes._subplots.AxesSubplot at 0x7f01361e4f50>"
            ]
          },
          "metadata": {},
          "execution_count": 8
        },
        {
          "output_type": "display_data",
          "data": {
            "image/png": "[encoded data removed]",
            "text/plain": [
              "<Figure size 432x288 with 1 Axes>"
            ]
          },
          "metadata": {}
        }
      ]
    },
    {
      "cell_type": "markdown",
      "metadata": {
        "id": "QJs-6E9qlIkS"
      },
      "source": [
        "###Handling Missing Data\n",
        "-  We refer the missing data as null, NaN (Not a Number), or NA values in general.\n",
        "- In many cases, dataset of interest will have some amount of data missing.\n",
        "- To make matters even more complicated, different data sources may indicate missing data in different ways.\n",
        "- **isnull method**: will compare each cell with a null value. If an element has a null value, it will be assigned a value of True in the output object."
      ]
    },
    {
      "cell_type": "code",
      "metadata": {
        "colab": {
          "base_uri": "https://localhost:8080/",
          "height": 205
        },
        "id": "rQNhH6S7hl4P",
        "outputId": "32b28b38-f4a7-4740-bfdc-d1d503523cf1"
      },
      "source": [
        "pd.isnull(file).head()"
      ],
      "execution_count": null,
      "outputs": [
        {
          "output_type": "execute_result",
          "data": {
            "text/html": [
              "<div>\n",
              "<style scoped>\n",
              "    .dataframe tbody tr th:only-of-type {\n",
              "        vertical-align: middle;\n",
              "    }\n",
              "\n",
              "    .dataframe tbody tr th {\n",
              "        vertical-align: top;\n",
              "    }\n",
              "\n",
              "    .dataframe thead th {\n",
              "        text-align: right;\n",
              "    }\n",
              "</style>\n",
              "<table border=\"1\" class=\"dataframe\">\n",
              "  <thead>\n",
              "    <tr style=\"text-align: right;\">\n",
              "      <th></th>\n",
              "      <th>country</th>\n",
              "      <th>year</th>\n",
              "      <th>pop</th>\n",
              "      <th>continent</th>\n",
              "      <th>lifeExp</th>\n",
              "      <th>gdpPercap</th>\n",
              "    </tr>\n",
              "  </thead>\n",
              "  <tbody>\n",
              "    <tr>\n",
              "      <th>0</th>\n",
              "      <td>False</td>\n",
              "      <td>False</td>\n",
              "      <td>False</td>\n",
              "      <td>False</td>\n",
              "      <td>False</td>\n",
              "      <td>False</td>\n",
              "    </tr>\n",
              "    <tr>\n",
              "      <th>1</th>\n",
              "      <td>False</td>\n",
              "      <td>False</td>\n",
              "      <td>False</td>\n",
              "      <td>False</td>\n",
              "      <td>False</td>\n",
              "      <td>False</td>\n",
              "    </tr>\n",
              "    <tr>\n",
              "      <th>2</th>\n",
              "      <td>False</td>\n",
              "      <td>False</td>\n",
              "      <td>False</td>\n",
              "      <td>False</td>\n",
              "      <td>False</td>\n",
              "      <td>False</td>\n",
              "    </tr>\n",
              "    <tr>\n",
              "      <th>3</th>\n",
              "      <td>False</td>\n",
              "      <td>False</td>\n",
              "      <td>False</td>\n",
              "      <td>False</td>\n",
              "      <td>False</td>\n",
              "      <td>False</td>\n",
              "    </tr>\n",
              "    <tr>\n",
              "      <th>4</th>\n",
              "      <td>False</td>\n",
              "      <td>False</td>\n",
              "      <td>False</td>\n",
              "      <td>False</td>\n",
              "      <td>False</td>\n",
              "      <td>False</td>\n",
              "    </tr>\n",
              "  </tbody>\n",
              "</table>\n",
              "</div>"
            ],
            "text/plain": [
              "   country   year    pop  continent  lifeExp  gdpPercap\n",
              "0    False  False  False      False    False      False\n",
              "1    False  False  False      False    False      False\n",
              "2    False  False  False      False    False      False\n",
              "3    False  False  False      False    False      False\n",
              "4    False  False  False      False    False      False"
            ]
          },
          "metadata": {},
          "execution_count": 3
        }
      ]
    },
    {
      "cell_type": "code",
      "metadata": {
        "colab": {
          "base_uri": "https://localhost:8080/",
          "height": 205
        },
        "id": "_M8Y4qOqh9b7",
        "outputId": "fea7df9a-f400-49eb-8cc8-b7b2e4be230d"
      },
      "source": [
        "pd.isnull(file).head()"
      ],
      "execution_count": null,
      "outputs": [
        {
          "output_type": "execute_result",
          "data": {
            "text/html": [
              "<div>\n",
              "<style scoped>\n",
              "    .dataframe tbody tr th:only-of-type {\n",
              "        vertical-align: middle;\n",
              "    }\n",
              "\n",
              "    .dataframe tbody tr th {\n",
              "        vertical-align: top;\n",
              "    }\n",
              "\n",
              "    .dataframe thead th {\n",
              "        text-align: right;\n",
              "    }\n",
              "</style>\n",
              "<table border=\"1\" class=\"dataframe\">\n",
              "  <thead>\n",
              "    <tr style=\"text-align: right;\">\n",
              "      <th></th>\n",
              "      <th>country</th>\n",
              "      <th>year</th>\n",
              "      <th>pop</th>\n",
              "      <th>continent</th>\n",
              "      <th>lifeExp</th>\n",
              "      <th>gdpPercap</th>\n",
              "    </tr>\n",
              "  </thead>\n",
              "  <tbody>\n",
              "    <tr>\n",
              "      <th>0</th>\n",
              "      <td>False</td>\n",
              "      <td>False</td>\n",
              "      <td>False</td>\n",
              "      <td>False</td>\n",
              "      <td>False</td>\n",
              "      <td>False</td>\n",
              "    </tr>\n",
              "    <tr>\n",
              "      <th>1</th>\n",
              "      <td>False</td>\n",
              "      <td>False</td>\n",
              "      <td>False</td>\n",
              "      <td>False</td>\n",
              "      <td>False</td>\n",
              "      <td>False</td>\n",
              "    </tr>\n",
              "    <tr>\n",
              "      <th>2</th>\n",
              "      <td>False</td>\n",
              "      <td>False</td>\n",
              "      <td>False</td>\n",
              "      <td>False</td>\n",
              "      <td>False</td>\n",
              "      <td>False</td>\n",
              "    </tr>\n",
              "    <tr>\n",
              "      <th>3</th>\n",
              "      <td>False</td>\n",
              "      <td>False</td>\n",
              "      <td>False</td>\n",
              "      <td>False</td>\n",
              "      <td>False</td>\n",
              "      <td>False</td>\n",
              "    </tr>\n",
              "    <tr>\n",
              "      <th>4</th>\n",
              "      <td>False</td>\n",
              "      <td>False</td>\n",
              "      <td>False</td>\n",
              "      <td>False</td>\n",
              "      <td>False</td>\n",
              "      <td>False</td>\n",
              "    </tr>\n",
              "  </tbody>\n",
              "</table>\n",
              "</div>"
            ],
            "text/plain": [
              "   country   year    pop  continent  lifeExp  gdpPercap\n",
              "0    False  False  False      False    False      False\n",
              "1    False  False  False      False    False      False\n",
              "2    False  False  False      False    False      False\n",
              "3    False  False  False      False    False      False\n",
              "4    False  False  False      False    False      False"
            ]
          },
          "metadata": {},
          "execution_count": 5
        }
      ]
    },
    {
      "cell_type": "markdown",
      "metadata": {
        "id": "F2DmGvvTjPYl"
      },
      "source": [
        "###How to select rows with missing data\n",
        "- A mask can be useful to locate where a particular subset of values exist or don't exist - for example, NaN, or \"Not a Number\" values. \n",
        "- In other words, we use  masks to identify a specific condition.\n",
        "- To select the rows where there are null values, we can use the mask as an index to subset our data as follows. "
      ]
    },
    {
      "cell_type": "code",
      "metadata": {
        "id": "mx9X2YWimOhO",
        "colab": {
          "base_uri": "https://localhost:8080/",
          "height": 49
        },
        "outputId": "0027aa95-4788-4bad-eabc-1db964b027e3"
      },
      "source": [
        "file[pd.isnull(file).any(axis=1)]"
      ],
      "execution_count": null,
      "outputs": [
        {
          "output_type": "execute_result",
          "data": {
            "text/html": [
              "<div>\n",
              "<style scoped>\n",
              "    .dataframe tbody tr th:only-of-type {\n",
              "        vertical-align: middle;\n",
              "    }\n",
              "\n",
              "    .dataframe tbody tr th {\n",
              "        vertical-align: top;\n",
              "    }\n",
              "\n",
              "    .dataframe thead th {\n",
              "        text-align: right;\n",
              "    }\n",
              "</style>\n",
              "<table border=\"1\" class=\"dataframe\">\n",
              "  <thead>\n",
              "    <tr style=\"text-align: right;\">\n",
              "      <th></th>\n",
              "      <th>country</th>\n",
              "      <th>year</th>\n",
              "      <th>pop</th>\n",
              "      <th>continent</th>\n",
              "      <th>lifeExp</th>\n",
              "      <th>gdpPercap</th>\n",
              "    </tr>\n",
              "  </thead>\n",
              "  <tbody>\n",
              "  </tbody>\n",
              "</table>\n",
              "</div>"
            ],
            "text/plain": [
              "Empty DataFrame\n",
              "Columns: [country, year, pop, continent, lifeExp, gdpPercap]\n",
              "Index: []"
            ]
          },
          "metadata": {},
          "execution_count": 6
        }
      ]
    }
  ]
}